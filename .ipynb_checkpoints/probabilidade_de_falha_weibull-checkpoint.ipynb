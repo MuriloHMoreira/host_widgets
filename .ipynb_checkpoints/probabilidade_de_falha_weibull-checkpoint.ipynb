{
 "cells": [
  {
   "cell_type": "code",
   "execution_count": 1,
   "id": "4f79aaba",
   "metadata": {
    "ExecuteTime": {
     "end_time": "2023-11-15T19:29:03.474163Z",
     "start_time": "2023-11-15T19:28:59.798983Z"
    }
   },
   "outputs": [
    {
     "name": "stdout",
     "output_type": "stream",
     "text": [
      "\n"
     ]
    }
   ],
   "source": [
    "#@title \n",
    "# HIDDEN\n",
    "import numpy as np\n",
    "import matplotlib as mpl\n",
    "import matplotlib.pyplot as plt\n",
    "from ipywidgets import interactive, widgets\n",
    "from matplotlib.ticker import FormatStrFormatter\n",
    "from scipy import stats\n",
    "from IPython.display import display, HTML, Math, clear_output\n",
    "\n",
    "import pandas as pd\n",
    "pd.set_option('display.max_rows', None)\n",
    "%matplotlib inline\n",
    "HTML(\"\"\"\n",
    "<style>\n",
    ".output_png {\n",
    "    display: table-cell;\n",
    "    text-align: center;\n",
    "    vertical-align: middle;\n",
    "}\n",
    ".output{align-items: center;}\n",
    "</style>\n",
    "\"\"\")\n",
    "\n",
    "from matplotlib import rc\n",
    "\n",
    "rc('font', **{'family': 'serif', 'serif': ['Computer Modern']})\n",
    "rc('text', usetex=True)\n",
    "\n",
    "print('')\n"
   ]
  },
  {
   "cell_type": "code",
   "execution_count": 3,
   "id": "2acd23c8",
   "metadata": {
    "ExecuteTime": {
     "end_time": "2023-11-15T19:29:29.242882Z",
     "start_time": "2023-11-15T19:29:29.232568Z"
    }
   },
   "outputs": [],
   "source": [
    "# HIDDEN\n",
    "mpl.rcParams.update({'font.size': 22})\n",
    "#@title \n",
    "def run_test(epsilon_i, E, sigma_f):\n",
    "    if epsilon_i * E < sigma_f:\n",
    "        epsilons = np.linspace(0, epsilon_i, 1000)\n",
    "        sigmas = E*epsilons\n",
    "    else:\n",
    "        epsilons = np.linspace(0, epsilon_i, 1000)\n",
    "        sigmas = E*epsilons\n",
    "        sigmas[sigmas>sigma_f] = np.zeros(sigmas[sigmas>sigma_f].shape[0])\n",
    "    return epsilons, sigmas\n",
    "\n",
    "def hide_code_in_slideshow():   \n",
    "    from IPython import display\n",
    "    import binascii\n",
    "    import os\n",
    "    uid = binascii.hexlify(os.urandom(8)).decode()    \n",
    "    html = \"\"\"<div id=\"%s\"></div>\n",
    "    <script type=\"text/javascript\">\n",
    "        $(function(){\n",
    "            var p = $(\"#%s\");\n",
    "            if (p.length==0) return;\n",
    "            while (!p.hasClass(\"cell\")) {\n",
    "                p=p.parent();\n",
    "                if (p.prop(\"tagName\") ==\"body\") return;\n",
    "            }\n",
    "            var cell = p;\n",
    "            cell.find(\".input\").addClass(\"hide-in-slideshow\")\n",
    "        });\n",
    "    </script>\"\"\" % (uid, uid)\n",
    "    display.display_html(html, raw=True)"
   ]
  },
  {
   "cell_type": "markdown",
   "id": "00d73508",
   "metadata": {},
   "source": [
    "#########"
   ]
  },
  {
   "cell_type": "code",
   "execution_count": 4,
   "id": "74333497",
   "metadata": {
    "ExecuteTime": {
     "end_time": "2023-11-15T19:29:30.106687Z",
     "start_time": "2023-11-15T19:29:29.942090Z"
    }
   },
   "outputs": [
    {
     "data": {
      "application/vnd.jupyter.widget-view+json": {
       "model_id": "6440b88b79e648f59663f75cd8c55d8f",
       "version_major": 2,
       "version_minor": 0
      },
      "text/plain": [
       "interactive(children=(FloatSlider(value=50.0, description='$P_f$', step=5.0), Output(layout=Layout(height='550…"
      ]
     },
     "execution_count": 4,
     "metadata": {},
     "output_type": "execute_result"
    }
   ],
   "source": [
    "# HIDDEN\n",
    "m_1 = 15\n",
    "sigma_1 = 20\n",
    "weibull_cdf = lambda sigma, m, sigma_0: np.exp(-(sigma/sigma_0)**m)\n",
    "sigma_0 = 20e6\n",
    "sigmas_f_m5 = np.sort(np.random.weibull(5, 100)*sigma_0)\n",
    "sigmas_f_m15 = np.sort(np.random.weibull(m_1, 100)*sigma_1*1e6)\n",
    "def weibull_view_2(percent):\n",
    "    S_m5 = 1-weibull_cdf(sigmas_f_m5, 5, sigma_0)\n",
    "    S_m15 = 1-weibull_cdf(sigmas_f_m15, m_1, sigma_1*1e6)\n",
    "\n",
    "    fig, axs = plt.subplots(1, 1, figsize=(14*0.85, 8*0.85))\n",
    "\n",
    "    axs.plot(sigmas_f_m5*1e-6, S_m5 * 100, '-o', c='navy',\n",
    "             label='$\\sigma_0$ = 20MPa, m = 5')\n",
    "    axs.plot(sigmas_f_m15*1e-6, S_m15 * 100, '-o', c='coral',\n",
    "             label=f'$\\sigma_0$ = {round(sigma_1, 2)}MPa, m = {m_1}')\n",
    "\n",
    "    sig_percent_m5 = np.interp(percent, S_m5[::1] * 100, sigmas_f_m5[::1])\n",
    "    sig_percent_m15 = np.interp(percent, S_m15[::1] * 100, sigmas_f_m15[::1])\n",
    "    \n",
    "    axs.plot(sig_percent_m5 * 1e-6, percent, 'o',\n",
    "             markerfacecolor='w', markersize=12, markeredgewidth=4, c='gold', zorder=150)\n",
    "    axs.plot(sig_percent_m15 * 1e-6, percent, 'o',\n",
    "             markerfacecolor='w', markersize=12, markeredgewidth=4, c='gold', zorder=150)\n",
    "    axs.axvline(sig_percent_m5 * 1e-6, lw=2, color='navy')\n",
    "    axs.axvline(sig_percent_m15 * 1e-6, lw=2, color='coral')\n",
    "    \n",
    "    axs.axhline(0, c='k', zorder=0, lw=1)\n",
    "    axs.axvline(0, c='k', zorder=0, lw=1)\n",
    "    axs.set_ylabel(r'$P_f$ [\\%]', fontsize=20)\n",
    "    axs.set_xlabel(r'$\\sigma$ [MPa]', fontsize=20)\n",
    "    axs.axhline(percent, 0.03, color='k', lw=2, ls='-')\n",
    "    axs.set_xlim(-1.5, 30)\n",
    "    axs.set_ylim(-5, 102.5)\n",
    "    \n",
    "    \n",
    "    bb = mpl.transforms.Bbox([[2, 13.5], [10, 50]])\n",
    "    fancy = mpl.patches.FancyBboxPatch(bb.p0, bb.width, bb.height,\n",
    "                           fc='w', ec='0.8', alpha=0.8, zorder=100)\n",
    "    axs.add_patch(fancy)\n",
    "    axs.text(6, 32, f'Probabilidade de\\nFalha:\\n$P_f$ = {round(percent, 2)}\\%',\n",
    "             horizontalalignment='center', zorder=100)\n",
    "    \n",
    "    for i in range(3):\n",
    "        axs.text(6.1, 24, f'$\\sigma_f$ = {round(sig_percent_m5 * 1e-6, 2)} MPa',\n",
    "                 horizontalalignment='center', zorder=100, color='navy')\n",
    "        axs.text(6.1, 16, f'$\\sigma_f$ = {round(sig_percent_m15 * 1e-6, 2)} MPa',\n",
    "                 horizontalalignment='center', zorder=100, color='coral')\n",
    "\n",
    "    for ax in [axs]:\n",
    "        for side in ['top','right','bottom','left']:\n",
    "            ax.spines[side].set_visible(False)\n",
    "        ax.tick_params(axis='both', which='both', labelbottom=True, bottom=False, left=False)\n",
    "    axs.legend(loc='upper left', bbox_to_anchor=(0.0907, 0.7), fontsize=16)\n",
    "    plt.tight_layout(w_pad=2)\n",
    "    plt.show()\n",
    "\n",
    "int_plot = interactive(weibull_view_2,\n",
    "                       percent=widgets.FloatSlider(value=50,\n",
    "                                                       min=0,\n",
    "                                                       max=100,\n",
    "                                                       step=5,\n",
    "                                                       description='$P_f$',\n",
    "                                                       readout_format='.2f')\n",
    "                      )\n",
    "output = int_plot.children[-1]\n",
    "output.layout.height = '550px'\n",
    "int_plot.layout = widgets.Layout(display='flex',\n",
    "                               flex_flow='column-reverse',\n",
    "                               align_items='center',\n",
    "                               align_content='center',\n",
    "                               justify_content='center',\n",
    "                               width='100%')\n",
    "int_plot"
   ]
  },
  {
   "cell_type": "code",
   "execution_count": null,
   "id": "b90f078a",
   "metadata": {},
   "outputs": [],
   "source": []
  }
 ],
 "metadata": {
  "kernelspec": {
   "display_name": "Python 3 (ipykernel)",
   "language": "python",
   "name": "python3"
  },
  "language_info": {
   "codemirror_mode": {
    "name": "ipython",
    "version": 3
   },
   "file_extension": ".py",
   "mimetype": "text/x-python",
   "name": "python",
   "nbconvert_exporter": "python",
   "pygments_lexer": "ipython3",
   "version": "3.11.6"
  },
  "toc": {
   "base_numbering": 1,
   "nav_menu": {},
   "number_sections": true,
   "sideBar": true,
   "skip_h1_title": false,
   "title_cell": "Table of Contents",
   "title_sidebar": "Contents",
   "toc_cell": false,
   "toc_position": {},
   "toc_section_display": true,
   "toc_window_display": false
  }
 },
 "nbformat": 4,
 "nbformat_minor": 5
}
