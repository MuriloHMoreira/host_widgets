{
 "cells": [
  {
   "cell_type": "code",
   "execution_count": null,
   "metadata": {},
   "outputs": [],
   "source": [
    "# nbinteract notebook.ipynb\n",
    "# git add -A | git commit -m \"publish test_tab\" | git push origin master"
   ]
  },
  {
   "cell_type": "code",
   "execution_count": 66,
   "metadata": {
    "ExecuteTime": {
     "end_time": "2020-09-24T14:36:44.142129Z",
     "start_time": "2020-09-24T14:36:43.822531Z"
    },
    "cell_style": "split",
    "hide_input": true
   },
   "outputs": [
    {
     "data": {
      "application/vnd.jupyter.widget-view+json": {
       "model_id": "6c24debca1574b87a3f15fc446f9e9f1",
       "version_major": 2,
       "version_minor": 0
      },
      "text/plain": [
       "interactive(children=(FloatSlider(value=1.0, description='xi', max=50.0, min=1.0, step=0.5), Output(layout=Lay…"
      ]
     },
     "metadata": {},
     "output_type": "display_data"
    }
   ],
   "source": [
    "#HIDDEN\n",
    "# nbi:left\n",
    "\n",
    "from ipywidgets import interactive, widgets\n",
    "from IPython.display import display\n",
    "import numpy as np\n",
    "import matplotlib as mpl\n",
    "%matplotlib inline\n",
    "import matplotlib.pyplot as plt\n",
    "\n",
    "def f(xsi):\n",
    "    r = np.linspace(1e-2, 10, num=1000)\n",
    "    plt.plot(r, np.sin(r*1/xsi), c='Navy')\n",
    "    plt.plot(r, (r*1/xsi), c='coral')\n",
    "#     plt.legend(fontsize=15)\n",
    "    plt.xlabel('x')\n",
    "    plt.ylabel('f(x)')\n",
    "    plt.show()\n",
    "\n",
    "interactive_plot = interactive(f, xsi=widgets.FloatSlider(value=1,\n",
    "                                                       min=1,\n",
    "                                                       max=50,\n",
    "                                                       step=0.5,\n",
    "                                                       description=r'xi',\n",
    "                                                       readout_format='.2f'))\n",
    "output = interactive_plot.children[-1]\n",
    "output.layout.height = '270px'\n",
    "interactive_plot.layout = widgets.Layout(display='flex',\n",
    "                               flex_flow='column',\n",
    "                               align_items='center',\n",
    "                               align_content='center',\n",
    "                               justify_content='center',\n",
    "                               width='100%')\n",
    "display(interactive_plot)\n"
   ]
  },
  {
   "cell_type": "code",
   "execution_count": 67,
   "metadata": {
    "ExecuteTime": {
     "end_time": "2020-09-24T14:36:48.639637Z",
     "start_time": "2020-09-24T14:36:48.485720Z"
    },
    "cell_style": "split",
    "hide_input": true
   },
   "outputs": [
    {
     "data": {
      "application/vnd.jupyter.widget-view+json": {
       "model_id": "1f84e5a5cb90478591031d601684494b",
       "version_major": 2,
       "version_minor": 0
      },
      "text/plain": [
       "VBox(box_style='info', children=(HTML(value='<h4><b stlye>Example 1</b></h4>'), HTML(value='<h4><b stlye>Calcu…"
      ]
     },
     "metadata": {},
     "output_type": "display_data"
    }
   ],
   "source": [
    "#HIDDEN\n",
    "# nbi:left\n",
    "\n",
    "from ipywidgets import interact, widgets\n",
    "def sbs(texts):\n",
    "    btn_next = widgets.Button(description='Next')\n",
    "    btn_back = widgets.Button(description='Back')\n",
    "    btn_back.disabled = True\n",
    "    texts_disps = []\n",
    "    total_texts = len(texts)\n",
    "    for text in texts:\n",
    "        texts_disps.append(widgets.HTMLMath(text))\n",
    "    for text_disp in texts_disps:\n",
    "        text_disp.layout = widgets.Layout(display='none')\n",
    "\n",
    "    global i_vis \n",
    "    i_vis = 0\n",
    "\n",
    "    def update_vis(i_vis):\n",
    "        if i_vis == total_texts:\n",
    "            btn_next.disabled = True\n",
    "        else:\n",
    "            btn_next.disabled = False\n",
    "        if i_vis != 0:\n",
    "            btn_back.disabled = False\n",
    "        else:\n",
    "            btn_back.disabled = True\n",
    "\n",
    "        for text_disp in texts_disps:\n",
    "            text_disp.layout = widgets.Layout(display='none')\n",
    "        for i in range(i_vis):\n",
    "            try:\n",
    "                texts_disps[i].layout.display = 'block'\n",
    "            except:\n",
    "                pass\n",
    "    \n",
    "    def clicked_btn_next(btn_object):\n",
    "        global i_vis\n",
    "        i_vis += 1\n",
    "        update_vis(i_vis)\n",
    "        \n",
    "    def clicked_btn_back(btn_object):\n",
    "        global i_vis\n",
    "        i_vis -= 1\n",
    "        update_vis(i_vis)\n",
    "    \n",
    "    btn_next.on_click(clicked_btn_next)\n",
    "    btn_back.on_click(clicked_btn_back)\n",
    "    bts = widgets.HBox([btn_back, btn_next])\n",
    "    out = widgets.VBox(texts_disps + [bts], layout=widgets.Layout(width='100%', display='column-flex'))\n",
    "    return out\n",
    "\n",
    "tab = widgets.Tab()\n",
    "tab.set_title(0, 'Example 1')\n",
    "header = widgets.HTML('<h4><b stlye>Example 1</b></h4>')\n",
    "title = widgets.HTML('<h4><b stlye>Calculation of Alumina Theoretical Strength:</b></h4>')\n",
    "description = widgets.HTMLMath('Alumina (Al<sub>2</sub>O<sub>3</sub>) has a Young Modulus, $E$, of approximately 400GPa, with a surface energy, $\\gamma_0$ of 1.2 J/m<sup>2</sup> and a lattice parameter, $x_0$ of 4x10<sup>-10</sup> m.')\n",
    "\n",
    "part1 = 'The theoretical strength can be calculate with Equation 16, that is:'\n",
    "part2 = '$\\sigma_{th} = \\sqrt{\\dfrac{\\gamma_0 E}{x_0}}$'\n",
    "part3 = 'Substituting the values:'\n",
    "part4 = '$\\sigma_{th} = \\sqrt{\\dfrac{1.2 \\ x \\ 400x10^9}{4x10^{-10} }}$'\n",
    "part5 = r'$\\sigma_{th} \\approx 40 $ GPa'\n",
    "\n",
    "parts = [part1, part2, part3, part4, part5]\n",
    "ex = sbs(parts)\n",
    "ex.children = tuple([header, title, description]+list(ex.children))\n",
    "# tab.children = [ex]\n",
    "# display(tab)\n",
    "ex.layout = widgets.Layout(border='solid darkblue', padding='2', margin='10')\n",
    "ex.box_style = 'info'\n",
    "ex\n"
   ]
  }
 ],
 "metadata": {
  "hide_input": false,
  "kernelspec": {
   "display_name": "Python 3",
   "language": "python",
   "name": "python3"
  },
  "language_info": {
   "codemirror_mode": {
    "name": "ipython",
    "version": 3
   },
   "file_extension": ".py",
   "mimetype": "text/x-python",
   "name": "python",
   "nbconvert_exporter": "python",
   "pygments_lexer": "ipython3",
   "version": "3.7.7"
  },
  "latex_envs": {
   "LaTeX_envs_menu_present": true,
   "autoclose": false,
   "autocomplete": true,
   "bibliofile": "biblio.bib",
   "cite_by": "apalike",
   "current_citInitial": 1,
   "eqLabelWithNumbers": true,
   "eqNumInitial": 1,
   "hotkeys": {
    "equation": "Ctrl-E",
    "itemize": "Ctrl-I"
   },
   "labels_anchors": false,
   "latex_user_defs": false,
   "report_style_numbering": true,
   "user_envs_cfg": false
  },
  "toc": {
   "base_numbering": 1,
   "nav_menu": {},
   "number_sections": true,
   "sideBar": true,
   "skip_h1_title": false,
   "title_cell": "Table of Contents",
   "title_sidebar": "Contents",
   "toc_cell": false,
   "toc_position": {},
   "toc_section_display": true,
   "toc_window_display": false
  },
  "varInspector": {
   "cols": {
    "lenName": 16,
    "lenType": 16,
    "lenVar": 40
   },
   "kernels_config": {
    "python": {
     "delete_cmd_postfix": "",
     "delete_cmd_prefix": "del ",
     "library": "var_list.py",
     "varRefreshCmd": "print(var_dic_list())"
    },
    "r": {
     "delete_cmd_postfix": ") ",
     "delete_cmd_prefix": "rm(",
     "library": "var_list.r",
     "varRefreshCmd": "cat(var_dic_list()) "
    }
   },
   "types_to_exclude": [
    "module",
    "function",
    "builtin_function_or_method",
    "instance",
    "_Feature"
   ],
   "window_display": false
  }
 },
 "nbformat": 4,
 "nbformat_minor": 2
}
