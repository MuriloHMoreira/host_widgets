{
 "cells": [
  {
   "cell_type": "code",
   "execution_count": 1,
   "metadata": {
    "ExecuteTime": {
     "end_time": "2020-09-22T11:03:59.999574Z",
     "start_time": "2020-09-22T11:03:59.923818Z"
    }
   },
   "outputs": [
    {
     "data": {
      "application/vnd.jupyter.widget-view+json": {
       "model_id": "70911577d2204226b11dbcc01eb81604",
       "version_major": 2,
       "version_minor": 0
      },
      "text/plain": [
       "interactive(children=(IntSlider(value=10, description='x', max=30, min=-10), Output()), _dom_classes=('widget-…"
      ]
     },
     "metadata": {},
     "output_type": "display_data"
    }
   ],
   "source": [
    "#HIDDEN\n",
    "from ipywidgets import interact\n",
    "import matplotlib\n",
    "def square(x):\n",
    "    return x * x\n",
    "\n",
    "interact(square, x=10);"
   ]
  },
  {
   "cell_type": "code",
   "execution_count": 4,
   "metadata": {
    "ExecuteTime": {
     "end_time": "2020-09-22T12:05:11.410290Z",
     "start_time": "2020-09-22T12:05:11.398887Z"
    }
   },
   "outputs": [
    {
     "name": "stdout",
     "output_type": "stream",
     "text": [
      "Hello Word\n"
     ]
    }
   ],
   "source": [
    "#HIDDEN\n",
    "print(\"Hello Word\")"
   ]
  },
  {
   "cell_type": "code",
   "execution_count": 2,
   "metadata": {
    "ExecuteTime": {
     "end_time": "2020-09-22T11:04:33.286019Z",
     "start_time": "2020-09-22T11:04:33.231132Z"
    }
   },
   "outputs": [
    {
     "data": {
      "application/vnd.jupyter.widget-view+json": {
       "model_id": "00735c8ce0f14cdc8a5b96dcc67ce56e",
       "version_major": 2,
       "version_minor": 0
      },
      "text/plain": [
       "interactive(children=(Text(value='Sam', description='name'), IntSlider(value=7, description='number', max=10, …"
      ]
     },
     "metadata": {},
     "output_type": "display_data"
    }
   ],
   "source": [
    "#HIDDEN\n",
    "def friends(name, number):\n",
    "    return '{} has {} friends!'.format(name, number)\n",
    "interact(friends, name='Sam', number=(5, 10));"
   ]
  },
  {
   "cell_type": "code",
   "execution_count": 3,
   "metadata": {
    "ExecuteTime": {
     "end_time": "2020-09-22T11:04:43.409880Z",
     "start_time": "2020-09-22T11:04:43.361681Z"
    }
   },
   "outputs": [
    {
     "data": {
      "application/vnd.jupyter.widget-view+json": {
       "model_id": "9fdb2b71876c4c9b9a4331171575b221",
       "version_major": 2,
       "version_minor": 0
      },
      "text/plain": [
       "interactive(children=(Text(value='Sam', description='name'), Dropdown(description='number', options={'One': 1,…"
      ]
     },
     "metadata": {},
     "output_type": "display_data"
    }
   ],
   "source": [
    "#HIDDEN\n",
    "interact(friends, name='Sam', number={'One': 1, 'Five': 5, 'Ten': 10});\n"
   ]
  },
  {
   "cell_type": "code",
   "execution_count": 16,
   "metadata": {
    "ExecuteTime": {
     "end_time": "2020-09-22T12:51:56.835423Z",
     "start_time": "2020-09-22T12:51:56.599692Z"
    }
   },
   "outputs": [
    {
     "data": {
      "application/vnd.jupyter.widget-view+json": {
       "model_id": "35d902c8c531441b8335088176cb8508",
       "version_major": 2,
       "version_minor": 0
      },
      "text/plain": [
       "interactive(children=(FloatSlider(value=1.0, description='$\\\\xi$', max=50.0, min=1.0, step=0.5), Output()), _d…"
      ]
     },
     "metadata": {},
     "output_type": "display_data"
    }
   ],
   "source": [
    "from ipywidgets import interactive, widgets\n",
    "import numpy as np\n",
    "import matplotlib as mpl\n",
    "%matplotlib inline\n",
    "mpl.rc('font', **{'family': 'serif', 'serif':['Computer Modern'], 'size': 18})\n",
    "mpl.rc('text', usetex=True)\n",
    "import matplotlib.pyplot as plt\n",
    "\n",
    "def f(xsi):\n",
    "    r = np.linspace(1e-2, 10, num=1000)\n",
    "    plt.plot(r, np.sin(r*1/xsi), c='Navy', label=r'$\\sin{\\left(r \\ \\frac{1}{\\xi} \\right)}$')\n",
    "    plt.plot(r, (r*1/xsi), c='coral', label=r'$r \\ \\frac{1}{\\xi}$')\n",
    "    plt.legend(fontsize=15)\n",
    "    plt.xlabel('x')\n",
    "    plt.ylabel('f(x)')\n",
    "    plt.show()\n",
    "\n",
    "interactive_plot = interact(f, xsi=widgets.FloatSlider(value=1,\n",
    "                                                       min=1,\n",
    "                                                       max=50,\n",
    "                                                       step=0.5,\n",
    "                                                       description=r'$\\xi$',\n",
    "                                                       readout_format='.2f'))\n",
    "# output = interactive_plot.children[-1]\n",
    "# output.layout.height = '270px'\n",
    "# interactive_plot.layout = widgets.Layout(display='flex',\n",
    "#                                flex_flow='column',\n",
    "#                                align_items='center',\n",
    "#                                align_content='center',\n",
    "#                                justify_content='center',\n",
    "#                                width='100%')\n",
    "# interactive_plot\n"
   ]
  },
  {
   "cell_type": "code",
   "execution_count": 18,
   "metadata": {
    "ExecuteTime": {
     "end_time": "2020-09-22T12:54:15.602453Z",
     "start_time": "2020-09-22T12:54:15.359191Z"
    }
   },
   "outputs": [
    {
     "data": {
      "application/vnd.jupyter.widget-view+json": {
       "model_id": "d151f416083f4ae09d522ab204d95faf",
       "version_major": 2,
       "version_minor": 0
      },
      "text/plain": [
       "interactive(children=(FloatSlider(value=1.0, description='$\\\\xi$', max=50.0, min=1.0, step=0.5), Output(layout…"
      ]
     },
     "metadata": {},
     "output_type": "display_data"
    }
   ],
   "source": [
    "from ipywidgets import interactive, widgets\n",
    "from IPython.display import display\n",
    "import numpy as np\n",
    "import matplotlib as mpl\n",
    "%matplotlib inline\n",
    "mpl.rc('font', **{'family': 'serif', 'serif':['Computer Modern'], 'size': 18})\n",
    "mpl.rc('text', usetex=True)\n",
    "import matplotlib.pyplot as plt\n",
    "\n",
    "def f(xsi):\n",
    "    r = np.linspace(1e-2, 10, num=1000)\n",
    "    plt.plot(r, np.sin(r*1/xsi), c='Navy', label=r'$\\sin{\\left(r \\ \\frac{1}{\\xi} \\right)}$')\n",
    "    plt.plot(r, (r*1/xsi), c='coral', label=r'$r \\ \\frac{1}{\\xi}$')\n",
    "    plt.legend(fontsize=15)\n",
    "    plt.xlabel('x')\n",
    "    plt.ylabel('f(x)')\n",
    "    plt.show()\n",
    "\n",
    "interactive_plot = interactive(f, xsi=widgets.FloatSlider(value=1,\n",
    "                                                       min=1,\n",
    "                                                       max=50,\n",
    "                                                       step=0.5,\n",
    "                                                       description=r'$\\xi$',\n",
    "                                                       readout_format='.2f'))\n",
    "output = interactive_plot.children[-1]\n",
    "output.layout.height = '270px'\n",
    "interactive_plot.layout = widgets.Layout(display='flex',\n",
    "                               flex_flow='column',\n",
    "                               align_items='center',\n",
    "                               align_content='center',\n",
    "                               justify_content='center',\n",
    "                               width='100%')\n",
    "display(interactive_plot)\n"
   ]
  }
 ],
 "metadata": {
  "hide_input": false,
  "kernelspec": {
   "display_name": "Python 3",
   "language": "python",
   "name": "python3"
  },
  "language_info": {
   "codemirror_mode": {
    "name": "ipython",
    "version": 3
   },
   "file_extension": ".py",
   "mimetype": "text/x-python",
   "name": "python",
   "nbconvert_exporter": "python",
   "pygments_lexer": "ipython3",
   "version": "3.7.7"
  },
  "latex_envs": {
   "LaTeX_envs_menu_present": true,
   "autoclose": false,
   "autocomplete": true,
   "bibliofile": "biblio.bib",
   "cite_by": "apalike",
   "current_citInitial": 1,
   "eqLabelWithNumbers": true,
   "eqNumInitial": 1,
   "hotkeys": {
    "equation": "Ctrl-E",
    "itemize": "Ctrl-I"
   },
   "labels_anchors": false,
   "latex_user_defs": false,
   "report_style_numbering": true,
   "user_envs_cfg": false
  },
  "toc": {
   "base_numbering": 1,
   "nav_menu": {},
   "number_sections": true,
   "sideBar": true,
   "skip_h1_title": false,
   "title_cell": "Table of Contents",
   "title_sidebar": "Contents",
   "toc_cell": false,
   "toc_position": {},
   "toc_section_display": true,
   "toc_window_display": false
  },
  "varInspector": {
   "cols": {
    "lenName": 16,
    "lenType": 16,
    "lenVar": 40
   },
   "kernels_config": {
    "python": {
     "delete_cmd_postfix": "",
     "delete_cmd_prefix": "del ",
     "library": "var_list.py",
     "varRefreshCmd": "print(var_dic_list())"
    },
    "r": {
     "delete_cmd_postfix": ") ",
     "delete_cmd_prefix": "rm(",
     "library": "var_list.r",
     "varRefreshCmd": "cat(var_dic_list()) "
    }
   },
   "types_to_exclude": [
    "module",
    "function",
    "builtin_function_or_method",
    "instance",
    "_Feature"
   ],
   "window_display": false
  }
 },
 "nbformat": 4,
 "nbformat_minor": 2
}
