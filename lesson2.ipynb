{
 "cells": [
  {
   "cell_type": "code",
   "execution_count": 1,
   "metadata": {
    "ExecuteTime": {
     "end_time": "2020-09-22T11:22:32.622934Z",
     "start_time": "2020-09-22T11:22:31.197623Z"
    },
    "hide_input": true,
    "run_control": {
     "marked": false
    }
   },
   "outputs": [],
   "source": [
    "import numpy as np\n",
    "import matplotlib as mpl\n",
    "import matplotlib.pyplot as plt\n",
    "from ipywidgets import interactive, widgets\n",
    "from mpl_toolkits.axisartist import SubplotZero\n",
    "from IPython.display import YouTubeVideo\n",
    "from matplotlib.patches import Ellipse, Rectangle\n",
    "import numpy.ma as ma\n",
    "from matplotlib.ticker import FormatStrFormatter\n",
    "from scipy import stats\n",
    "from IPython.display import display, clear_output\n",
    "mpl.rc('font', **{'family': 'serif', 'serif':['Computer Modern'], 'size': 18})\n",
    "mpl.rc('text', usetex=True)\n",
    "\n",
    "%matplotlib inline"
   ]
  },
  {
   "cell_type": "code",
   "execution_count": 2,
   "metadata": {
    "ExecuteTime": {
     "end_time": "2020-09-22T11:22:32.685579Z",
     "start_time": "2020-09-22T11:22:32.646902Z"
    },
    "code_folding": [],
    "hide_input": false,
    "run_control": {
     "marked": false
    }
   },
   "outputs": [],
   "source": [
    "def arrowed_spines(fig, ax, w_scl=40, l_scl=40):\n",
    "    '''\n",
    "    Solution provided in \n",
    "    https://stackoverflow.com/questions/33737736/matplotlib-axis-arrow-tip\n",
    "    '''\n",
    "    xmin, xmax = ax.get_xlim() \n",
    "    ymin, ymax = ax.get_ylim()\n",
    "\n",
    "    # removing the default axis on all sides:\n",
    "    for side in ['bottom','right','top','left']:\n",
    "        ax.spines[side].set_visible(False)\n",
    "\n",
    "    # removing the axis ticks\n",
    "    ax.set_xticks([]) # labels \n",
    "    ax.set_yticks([])\n",
    "    ax.xaxis.set_ticks_position('none') # tick markers\n",
    "    ax.yaxis.set_ticks_position('none')\n",
    "\n",
    "    # get width and height of axes object to compute \n",
    "    # matching arrowhead length and width\n",
    "    dps = fig.dpi_scale_trans.inverted()\n",
    "    bbox = ax.get_window_extent().transformed(dps)\n",
    "    width, height = bbox.width, bbox.height\n",
    "\n",
    "    # manual arrowhead width and length\n",
    "    hw = 1./w_scl*(ymax-ymin) \n",
    "    hl = 1./l_scl*(xmax-xmin)\n",
    "    lw = 1. # axis line width\n",
    "    ohg = 0.3 # arrow overhang\n",
    "\n",
    "    # compute matching arrowhead length and width\n",
    "    yhw = hw/(ymax-ymin)*(xmax-xmin)* height/width \n",
    "    yhl = hl/(xmax-xmin)*(ymax-ymin)* width/height\n",
    "\n",
    "    # draw x and y axis\n",
    "    ax.arrow(xmin, 0, xmax-xmin, 0., fc='k', ec='k', lw = lw, \n",
    "             head_width=hw, head_length=hl, overhang = ohg, \n",
    "             length_includes_head= True, clip_on = False) \n",
    "\n",
    "    ax.arrow(0, ymin, 0., ymax-ymin, fc='k', ec='k', lw = lw, \n",
    "             head_width=yhw, head_length=yhl, overhang = ohg, \n",
    "             length_includes_head= True, clip_on = False)\n",
    "    \n",
    "def create_multipleChoice_widget(description, options, correct_answer):\n",
    "    if correct_answer not in options:\n",
    "        options.append(correct_answer)\n",
    "    \n",
    "    correct_answer_index = options.index(correct_answer)\n",
    "    \n",
    "    radio_options = [(words, i) for i, words in enumerate(options)]\n",
    "    alternativ = widgets.RadioButtons(\n",
    "        options = radio_options,\n",
    "        description = '',\n",
    "        disabled = False\n",
    "    )\n",
    "    \n",
    "    description_out = widgets.HTMLMath(description)\n",
    "        \n",
    "    feedback_out = widgets.Output()\n",
    "\n",
    "    def check_selection(b):\n",
    "        a = int(alternativ.value)\n",
    "        if a==correct_answer_index:\n",
    "            s = '\\x1b[6;30;42m' + \" Congratulations! You're right! \" + '\\x1b[0m' +\"\\n\" #green color\n",
    "        else:\n",
    "            s = '\\x1b[5;30;41m' + \" Wrong Anwser! Try again!\" + '\\x1b[0m' +\"\\n\" #red color\n",
    "        with feedback_out:\n",
    "            clear_output()\n",
    "            print(s)\n",
    "        return\n",
    "    \n",
    "    check = widgets.Button(description=\"Submit!\")\n",
    "    check.on_click(check_selection)\n",
    "    \n",
    "    \n",
    "    return widgets.VBox([description_out, alternativ, check, feedback_out])\n",
    "\n",
    "\n",
    "def sbs(texts):\n",
    "    btn_next = widgets.Button(description='Next')\n",
    "    btn_back = widgets.Button(description='Back')\n",
    "    btn_back.disabled = True\n",
    "    texts_disps = []\n",
    "    total_texts = len(texts)\n",
    "    for text in texts:\n",
    "        texts_disps.append(widgets.HTMLMath(text))\n",
    "    for text_disp in texts_disps:\n",
    "        text_disp.layout = widgets.Layout(display='none')\n",
    "\n",
    "    global i_vis \n",
    "    i_vis = 0\n",
    "\n",
    "    def update_vis(i_vis):\n",
    "        if i_vis == total_texts:\n",
    "            btn_next.disabled = True\n",
    "        else:\n",
    "            btn_next.disabled = False\n",
    "        if i_vis != 0:\n",
    "            btn_back.disabled = False\n",
    "        else:\n",
    "            btn_back.disabled = True\n",
    "\n",
    "        for text_disp in texts_disps:\n",
    "            text_disp.layout = widgets.Layout(display='none')\n",
    "        for i in range(i_vis):\n",
    "            try:\n",
    "                texts_disps[i].layout.display = 'block'\n",
    "            except:\n",
    "                pass\n",
    "    \n",
    "    def clicked_btn_next(btn_object):\n",
    "        global i_vis\n",
    "        i_vis += 1\n",
    "        update_vis(i_vis)\n",
    "        \n",
    "    def clicked_btn_back(btn_object):\n",
    "        global i_vis\n",
    "        i_vis -= 1\n",
    "        update_vis(i_vis)\n",
    "    \n",
    "    btn_next.on_click(clicked_btn_next)\n",
    "    btn_back.on_click(clicked_btn_back)\n",
    "    bts = widgets.HBox([btn_back, btn_next])\n",
    "    out = widgets.VBox(texts_disps + [bts], layout=widgets.Layout(width='100%', display='column-flex'))\n",
    "    return out\n",
    "\n",
    "import numpy as np\n",
    "import matplotlib as mpl\n",
    "import matplotlib.pyplot as plt\n",
    "from ipywidgets import interactive, widgets\n",
    "from mpl_toolkits.axisartist import SubplotZero\n",
    "from IPython.display import YouTubeVideo\n",
    "from matplotlib.patches import Ellipse, Rectangle\n",
    "import numpy.ma as ma\n",
    "from matplotlib.ticker import FormatStrFormatter\n",
    "from scipy import stats\n",
    "from IPython.display import display, clear_output\n",
    "mpl.rc('font', **{'family': 'serif', 'serif':['Computer Modern'], 'size': 18})\n",
    "mpl.rc('text', usetex=True)\n",
    "\n",
    "%matplotlib inline"
   ]
  },
  {
   "cell_type": "markdown",
   "metadata": {},
   "source": [
    "# Overall Properties of Ceramic Materials"
   ]
  },
  {
   "cell_type": "markdown",
   "metadata": {},
   "source": [
    "## What are the ceramic properties that come to mind?"
   ]
  },
  {
   "cell_type": "markdown",
   "metadata": {},
   "source": [
    "Common thoughts:\n",
    "1. Refractoriness\n",
    "2. Fragile\n",
    "3. Hard\n",
    "4. Low Thermal Conductivity\n",
    "5. Low Density"
   ]
  },
  {
   "cell_type": "markdown",
   "metadata": {},
   "source": [
    "<table  style=\"background-color: inherit;     \n",
    "   opacity: 1.0;  margin-left: auto;\n",
    "  margin-right: auto;\"><tr>\n",
    "<td> <img src=\"https://prodigalplace.files.wordpress.com/2013/07/photo-broken-cup-iv.png\" alt=\"Drawing\" style=\"height: 250px;\"/> </td>\n",
    "<td> <img src=\"https://www.builddirect.com/learning-center/wp-content/uploads/2015/06/tile-cracked-needs-repair-sm.jpg\" alt=\"Drawing\" style=\"height: 250px;\"/> </td>\n",
    "</tr></table>"
   ]
  },
  {
   "cell_type": "markdown",
   "metadata": {},
   "source": [
    "## Examples of Properties of *Advanced Ceramics*"
   ]
  },
  {
   "cell_type": "markdown",
   "metadata": {},
   "source": [
    "### Ceramic Ribbons"
   ]
  },
  {
   "cell_type": "code",
   "execution_count": 3,
   "metadata": {
    "ExecuteTime": {
     "end_time": "2020-09-21T17:13:57.308093Z",
     "start_time": "2020-09-21T17:13:56.976979Z"
    },
    "hide_input": true,
    "scrolled": false
   },
   "outputs": [
    {
     "data": {
      "image/jpeg": "[encoded data removed]",
      "text/html": [
       "\n",
       "        <iframe\n",
       "            width=\"600\"\n",
       "            height=\"400\"\n",
       "            src=\"https://www.youtube.com/embed/UZOXI3F5F44\"\n",
       "            frameborder=\"0\"\n",
       "            allowfullscreen\n",
       "        ></iframe>\n",
       "        "
      ],
      "text/plain": [
       "<IPython.lib.display.YouTubeVideo at 0x2db599b2388>"
      ]
     },
     "execution_count": 3,
     "metadata": {},
     "output_type": "execute_result"
    }
   ],
   "source": [
    "YouTubeVideo('UZOXI3F5F44', width=600, height=400)"
   ]
  },
  {
   "cell_type": "code",
   "execution_count": 4,
   "metadata": {
    "ExecuteTime": {
     "end_time": "2020-09-21T17:13:57.697054Z",
     "start_time": "2020-09-21T17:13:57.311086Z"
    },
    "hide_input": true,
    "scrolled": false
   },
   "outputs": [
    {
     "data": {
      "image/jpeg": "[encoded data removed]",
      "text/html": [
       "\n",
       "        <iframe\n",
       "            width=\"600\"\n",
       "            height=\"400\"\n",
       "            src=\"https://www.youtube.com/embed/bLq1FRvjrzw\"\n",
       "            frameborder=\"0\"\n",
       "            allowfullscreen\n",
       "        ></iframe>\n",
       "        "
      ],
      "text/plain": [
       "<IPython.lib.display.YouTubeVideo at 0x2db5cb2fdc8>"
      ]
     },
     "execution_count": 4,
     "metadata": {},
     "output_type": "execute_result"
    }
   ],
   "source": [
    "YouTubeVideo('bLq1FRvjrzw', width=600, height=400)"
   ]
  },
  {
   "cell_type": "markdown",
   "metadata": {},
   "source": [
    "Alumina ribbon that is **flexible**, **resistant to thermal shocks**."
   ]
  },
  {
   "cell_type": "markdown",
   "metadata": {},
   "source": [
    "### Smartphone Screens"
   ]
  },
  {
   "cell_type": "code",
   "execution_count": 5,
   "metadata": {
    "ExecuteTime": {
     "end_time": "2020-09-21T17:13:58.071067Z",
     "start_time": "2020-09-21T17:13:57.730963Z"
    },
    "hide_input": true,
    "scrolled": false
   },
   "outputs": [
    {
     "data": {
      "image/jpeg": "[encoded data removed]",
      "text/html": [
       "\n",
       "        <iframe\n",
       "            width=\"600\"\n",
       "            height=\"400\"\n",
       "            src=\"https://www.youtube.com/embed/wT8xI4PEU8c\"\n",
       "            frameborder=\"0\"\n",
       "            allowfullscreen\n",
       "        ></iframe>\n",
       "        "
      ],
      "text/plain": [
       "<IPython.lib.display.YouTubeVideo at 0x2db5cc08388>"
      ]
     },
     "execution_count": 5,
     "metadata": {},
     "output_type": "execute_result"
    }
   ],
   "source": [
    "YouTubeVideo('wT8xI4PEU8c', width=600, height=400)"
   ]
  },
  {
   "cell_type": "markdown",
   "metadata": {},
   "source": [
    "**High strength**"
   ]
  },
  {
   "cell_type": "markdown",
   "metadata": {},
   "source": [
    "### Space Shuttle Thermal Tiles"
   ]
  },
  {
   "cell_type": "code",
   "execution_count": 6,
   "metadata": {
    "ExecuteTime": {
     "end_time": "2020-09-21T17:13:58.609612Z",
     "start_time": "2020-09-21T17:13:58.263539Z"
    },
    "hide_input": true,
    "scrolled": false
   },
   "outputs": [
    {
     "data": {
      "image/jpeg": "[encoded data removed]",
      "text/html": [
       "\n",
       "        <iframe\n",
       "            width=\"600\"\n",
       "            height=\"400\"\n",
       "            src=\"https://www.youtube.com/embed/Pp9Yax8UNoM\"\n",
       "            frameborder=\"0\"\n",
       "            allowfullscreen\n",
       "        ></iframe>\n",
       "        "
      ],
      "text/plain": [
       "<IPython.lib.display.YouTubeVideo at 0x2db5cc0c388>"
      ]
     },
     "execution_count": 6,
     "metadata": {},
     "output_type": "execute_result"
    }
   ],
   "source": [
    "YouTubeVideo('Pp9Yax8UNoM', width=600, height=400)"
   ]
  },
  {
   "cell_type": "markdown",
   "metadata": {},
   "source": [
    "**Thermal Properties** of the Space Shuttle tiles that protect it from the high temperature that results from the friction with the atmospheric air. "
   ]
  },
  {
   "cell_type": "markdown",
   "metadata": {},
   "source": [
    "### Important Remarks:\n",
    "\n",
    "> Usually, we have common **assumptions** of the ceramic materials properties based on the **traditional materials** that are around us, such as ceramic tiles, glasses and bricks in the case of ceramic materials.\n",
    "\n",
    "> One should **not** take the properties of such materials as the **standard** of its **whole class**.\n",
    "\n",
    "> There are **advanced materials** around us everywhere too, however some times they are **hidden**, for example, your smartphone screen, all of it's sensor and multiple components that our daily lives usually depend on. That is the case for other materials classes too such as advanced engineering polymers and special alloys.\n",
    "\n",
    "> One of the objective of this course is to **understand the fundamentals** that **enable** such advanced properties, correlate them and recognize they are not material-specific and, finally, instigate on the students the sense that **it is possible to develop advanced solutions even on traditional materials** when one understands the basic **underlying principles**."
   ]
  },
  {
   "cell_type": "markdown",
   "metadata": {},
   "source": [
    "## What are the properties that define the mechanical strength of the ceramics?"
   ]
  },
  {
   "cell_type": "markdown",
   "metadata": {},
   "source": [
    "\n",
    "<span id=\"call-ref_3pt\" class=\"img_container center\" style=\"display: inline_block; vertical-align: top; text-align: center;\" > <img alt=\"test\" src=\"https://www.syalons.com/wp-content/uploads/2018/08/Modulus-of-Rupture-2.png\" style=\"display:block; margin-left: auto; margin-right: auto; text-align: left;\" title=\"caption\" align=\"center\" width=\"500\" height=\"600\" /> <div class=\"img_caption\" style=\"border-style: solid; border-width: 2px; border-radius: 5px; border-color:lightgrey; padding: 2px 5px; text-align: left; width=980px\"><b>Figure 1:</b> Modulus of Rupture test of a ceramic material. <a href=\"#cit-ref_3pt\">[1]</a>.</div> </span>"
   ]
  },
  {
   "cell_type": "markdown",
   "metadata": {
    "run_control": {
     "marked": true
    }
   },
   "source": [
    "**The chemical bonds between the atoms of such material!** Formats, defects, porosity, all affect this property, but the fundamental property related to the mechanical strength is the chemical bonds"
   ]
  },
  {
   "cell_type": "markdown",
   "metadata": {},
   "source": [
    "# How strong are chemical bonds?"
   ]
  },
  {
   "cell_type": "markdown",
   "metadata": {},
   "source": [
    "## Lennard-Jones Model for Bonding Energy"
   ]
  },
  {
   "cell_type": "markdown",
   "metadata": {},
   "source": [
    "The Lennard-Jones potential describes a model for the interaction between two particles. It is a simplified theoretical construction that considers both attractive and repulsive potentials. There are plenty of limitations regarding its applicability such as the fact that it does not consider the effect of neighbors particles.\n",
    "\n",
    "Nonetheless, they can be of great importance to explain the behavior of different properties, as we shall see.\n",
    "\n",
    "First, let's start by looking at its mathematical definition as shown by Equation (\\ref{eq:lj})."
   ]
  },
  {
   "cell_type": "markdown",
   "metadata": {
    "ExecuteTime": {
     "end_time": "2020-09-04T14:56:36.673969Z",
     "start_time": "2020-09-04T14:56:36.651030Z"
    }
   },
   "source": [
    "\\begin{equation}\\label{eq:lj}\n",
    "U(r)=4 \\epsilon\\left[\\left(\\frac{\\sigma}{r}\\right)^{2 n}-\\left(\\frac{\\sigma}{r}\\right)^{n}\\right]\n",
    "\\end{equation}\n"
   ]
  },
  {
   "cell_type": "markdown",
   "metadata": {},
   "source": [
    "where $\\epsilon$ is the **bonding energy**, $\\sigma$ is the interatomic distance where the potential is zero, $n$ is a power coefficient related to the **Young Modulus**, and $r$ is the interatomic separation between two atoms.\n",
    "\n",
    "The first term with the exponent $2n$ accounts for the repulsive interactions while the second one with the exponent $n$ is related to the attraction between the particles."
   ]
  },
  {
   "cell_type": "markdown",
   "metadata": {
    "hide_input": true
   },
   "source": [
    "In the next cell one can see the effect of changing the bonding energy and the exponent coefficients, by changing its values using the sliders and also seeing their effect on the Young Modulus"
   ]
  },
  {
   "cell_type": "code",
   "execution_count": 3,
   "metadata": {
    "ExecuteTime": {
     "end_time": "2020-09-22T11:22:49.344745Z",
     "start_time": "2020-09-22T11:22:45.191369Z"
    },
    "hide_input": false
   },
   "outputs": [
    {
     "name": "stderr",
     "output_type": "stream",
     "text": [
      "findfont: Font family ['serif'] not found. Falling back to DejaVu Sans.\n"
     ]
    },
    {
     "data": {
      "image/png": "[encoded data removed]",
      "text/plain": [
       "<Figure size 720x720 with 2 Axes>"
      ]
     },
     "metadata": {},
     "output_type": "display_data"
    }
   ],
   "source": [
    "#HIDDEN\n",
    "e = 6\n",
    "n = 2\n",
    "r = np.linspace(1e-2, 10, num=1000)\n",
    "fig, axs = plt.subplots(2, 1, figsize=(10, 10))\n",
    "fig.set_facecolor('white') \n",
    "sigma = 1\n",
    "R_E = 4*e*(((sigma/r)**(2*n)))\n",
    "A_E = 4*e*((-(sigma/r)**n))\n",
    "N_E = R_E + A_E\n",
    "N_F = -4*e*(2*n*((sigma**(2*n)/r**(2*n+1)))-n*(sigma**(n)/r**(n+1)))\n",
    "axs[0].plot(r, R_E, c='Navy', lw=2, label='Repulsive Energy')\n",
    "axs[0].text(2.25, 2, 'Repulsive Energy', color='Navy', fontsize=16)\n",
    "axs[0].plot(r, A_E, c='Coral', lw=2, label='Attraction Energy')\n",
    "axs[0].text(2.75, -4, 'Attraction Energy', color='Coral', fontsize=16)\n",
    "axs[0].plot(r, N_E, c='C0', lw=2, ls='--', label='Net Energy')\n",
    "axs[0].text(0.3, -7., 'Net \\n Energy', color='C0', fontsize=16)\n",
    "\n",
    "\n",
    "axs[0].annotate('$r$', xy=(1, 0.5), xytext=(1, 0), ha='left', va='top',\n",
    "        xycoords='axes fraction', textcoords='offset points', fontsize=16)\n",
    "axs[0].annotate('$E$', xy=(0, 1.05), xytext=(1, 0), ha='left', va='top',\n",
    "        xycoords='axes fraction', textcoords='offset points', fontsize=16)\n",
    "\n",
    "axs[0].plot([r[N_E.argmin()], r[N_E.argmin()]], [0, N_E.min()], '--', c='k')\n",
    "axs[0].text(-0.75, N_E.min(), r'$E_{min}$', color='k', fontsize=16)\n",
    "axs[0].scatter(-0.005, [N_E.min()], marker='_', c='k')\n",
    "axs[0].plot([0, r[N_E.argmin()]], [N_E.min(), N_E.min()], '--', c='k')\n",
    "axs[0].scatter(r[N_E.argmin()], 0.075, marker='|', c='k')\n",
    "axs[0].text(r[N_E.argmin()]*1.1, 0.5, r'$x_{0}$', color='k', fontsize=16)\n",
    "\n",
    "\n",
    "axs[1].plot(r, N_F, c='C0', lw=2, ls='--', label='Net Energy')\n",
    "# axs[1].plot(r, np.gradient(N_E, r), c='C0', lw=2, ls='--', label='Net Energy')\n",
    "axs[1].plot([r[N_F.argmax()], r[N_F.argmax()]], [0, N_F.max()], '--', c='k')\n",
    "\n",
    "axs[0].set_xlim(-0.5, 10.5)\n",
    "axs[1].set_xlim(-0.5, 10.5)\n",
    "axs[0].set_ylim(-10, 10)\n",
    "axs[1].set_ylim(-10, 10)\n",
    "\n",
    "\n",
    "axs[0].axvline(x=r[N_E.argmin()],ymin=0,ymax=1,c=\"k\",linewidth=2,zorder=0, clip_on=False, ls=':')\n",
    "axs[1].axvline(x=r[N_E.argmin()],ymin=0,ymax=2,c=\"k\",linewidth=2,zorder=0, clip_on=False, ls=':')\n",
    "r_ = np.linspace(r[N_E.argmin()], 10, 1000)\n",
    "\n",
    "axs[1].annotate('$F$', xy=(0, 1.05), xytext=(1, 0), ha='left', va='top',\n",
    "        xycoords='axes fraction', textcoords='offset points', fontsize=16)\n",
    "axs[1].annotate('$r$', xy=(1, 0.5), xytext=(1, 0), ha='left', va='top',\n",
    "        xycoords='axes fraction', textcoords='offset points', fontsize=16)\n",
    "axs[1].text(r[N_E.argmin()]*0.7, -1.25, r'$x_{0}$', color='k', fontsize=16)\n",
    "axs[1].text(r[N_F.argmax()], -1.25, r'$x_{r}$', color='k', fontsize=16)\n",
    "\n",
    "\n",
    "axs[1].text(-0.75, N_F.max(), r'$F_{max}$', color='k', fontsize=16)\n",
    "axs[1].scatter(-0.005, [N_F.max()], marker='_', c='k')\n",
    "axs[1].plot([0, r[N_F.argmax()]], [N_F.max(), N_F.max()], '--', c='k')\n",
    "\n",
    "\n",
    "\n",
    "arrowed_spines(fig, axs[0])\n",
    "arrowed_spines(fig, axs[1])\n",
    "axs[0].legend(fontsize=16)\n",
    "plt.show()"
   ]
  },
  {
   "cell_type": "markdown",
   "metadata": {},
   "source": [
    "This potential can be related to numerous properties, such as:\n",
    "\n",
    "- Refractoriness\n",
    "- Stiffness\n",
    "- Hardness\n",
    "- Thermal Expansion"
   ]
  },
  {
   "cell_type": "markdown",
   "metadata": {},
   "source": [
    "We can visualize this relationships by seeing the effect of the Lennard-Jones coefficients on the Young modulus:"
   ]
  },
  {
   "cell_type": "code",
   "execution_count": 2,
   "metadata": {
    "ExecuteTime": {
     "end_time": "2020-09-22T11:52:20.497790Z",
     "start_time": "2020-09-22T11:52:17.226100Z"
    },
    "hide_input": true
   },
   "outputs": [
    {
     "data": {
      "application/vnd.jupyter.widget-view+json": {
       "model_id": "107192b18a8e4ac7af4f035855f2a60e",
       "version_major": 2,
       "version_minor": 0
      },
      "text/plain": [
       "interactive(children=(FloatSlider(value=6.0, description='e', max=10.0, min=2.0, step=0.5), FloatSlider(value=…"
      ]
     },
     "metadata": {},
     "output_type": "display_data"
    }
   ],
   "source": [
    "from ipywidgets import interactive, widgets\n",
    "import numpy as np\n",
    "import matplotlib as mpl\n",
    "import matplotlib.pyplot as plt\n",
    "from matplotlib.patches import Ellipse, Rectangle\n",
    "mpl.rc('font', **{'family': 'serif', 'serif':['Computer Modern'], 'size': 18})\n",
    "mpl.rc('text', usetex=True)\n",
    "%matplotlib inline\n",
    "def arrowed_spines(fig, ax, w_scl=40, l_scl=40):\n",
    "    '''\n",
    "    Solution provided in \n",
    "    https://stackoverflow.com/questions/33737736/matplotlib-axis-arrow-tip\n",
    "    '''\n",
    "    xmin, xmax = ax.get_xlim() \n",
    "    ymin, ymax = ax.get_ylim()\n",
    "\n",
    "    # removing the default axis on all sides:\n",
    "    for side in ['bottom','right','top','left']:\n",
    "        ax.spines[side].set_visible(False)\n",
    "\n",
    "    # removing the axis ticks\n",
    "    ax.set_xticks([]) # labels \n",
    "    ax.set_yticks([])\n",
    "    ax.xaxis.set_ticks_position('none') # tick markers\n",
    "    ax.yaxis.set_ticks_position('none')\n",
    "\n",
    "    # get width and height of axes object to compute \n",
    "    # matching arrowhead length and width\n",
    "    dps = fig.dpi_scale_trans.inverted()\n",
    "    bbox = ax.get_window_extent().transformed(dps)\n",
    "    width, height = bbox.width, bbox.height\n",
    "\n",
    "    # manual arrowhead width and length\n",
    "    hw = 1./w_scl*(ymax-ymin) \n",
    "    hl = 1./l_scl*(xmax-xmin)\n",
    "    lw = 1. # axis line width\n",
    "    ohg = 0.3 # arrow overhang\n",
    "\n",
    "    # compute matching arrowhead length and width\n",
    "    yhw = hw/(ymax-ymin)*(xmax-xmin)* height/width \n",
    "    yhl = hl/(xmax-xmin)*(ymax-ymin)* width/height\n",
    "\n",
    "    # draw x and y axis\n",
    "    ax.arrow(xmin, 0, xmax-xmin, 0., fc='k', ec='k', lw = lw, \n",
    "             head_width=hw, head_length=hl, overhang = ohg, \n",
    "             length_includes_head= True, clip_on = False) \n",
    "\n",
    "    ax.arrow(0, ymin, 0., ymax-ymin, fc='k', ec='k', lw = lw, \n",
    "             head_width=yhw, head_length=yhl, overhang = ohg, \n",
    "             length_includes_head= True, clip_on = False)\n",
    "\n",
    "def f(e, n, show_tangent):\n",
    "    fig, axs = plt.subplots(2, 1, figsize=(10, 10))\n",
    "    fig.set_facecolor('white') \n",
    "    r = np.linspace(1e-2, 10, num=1000)\n",
    "    #e = 1\n",
    "    sigma = 1\n",
    "    U = 4*e*(((sigma/r)**(2*n))-(sigma/r)**n)\n",
    "    axs[0].plot(r, U, lw=2, zorder=0, c='navy')\n",
    "    axs[0].set_ylim(-10, 10)\n",
    "    F = -4*e*(2*n*((sigma**(2*n)/r**(2*n+1)))-n*(sigma**(n)/r**(n+1)))\n",
    "    axs[1].plot(r, F, c='Navy', lw=2, ls='-')\n",
    "    axs[0].set_xlim(-0.5, 10.5)\n",
    "    axs[1].set_xlim(-0.5, 10.5)\n",
    "    axs[0].set_ylim(-12, 10)\n",
    "    axs[1].set_ylim(-15, 40)\n",
    "    axs[1].annotate('$F$', xy=(0, 1.05), xytext=(1, 0), ha='left', va='top',\n",
    "            xycoords='axes fraction', textcoords='offset points')\n",
    "    axs[1].annotate('$r$', xy=(1, 0.5), xytext=(1, 0), ha='left', va='top',\n",
    "            xycoords='axes fraction', textcoords='offset points')\n",
    "    arrowed_spines(fig, axs[1])\n",
    "\n",
    "    if show_tangent:\n",
    "        r_0 = r[U.argmin()]\n",
    "        k = 4 * e * n**2/r_0**(n+1)\n",
    "#         k = \n",
    "#         plt.plot(r[U.argmin()-20:U.argmin()], U[U.argmin()-20:U.argmin()], 'o')\n",
    "        axs[0].plot(r[U.argmin()-30:U.argmin()+30], +k*(r[U.argmin()-30:U.argmin()+30]-r_0)**2+U.min(), c='coral', label=r'$\\propto E$')\n",
    "        k = 4 * e * n**2/r_0**(n+1)\n",
    "        axs[1].plot(r[U.argmin()-30:U.argmin()+30], +k*(r[U.argmin()-30:U.argmin()+30]-r_0)+F[U.argmin()], c='coral', label=r'$\\propto E$')\n",
    "    axs[0].axvline(2**(1/n)*sigma, color='k', ls='--', label='$r_{min}$')\n",
    "    axs[1].axvline(2**(1/n)*sigma, color='k', ls='--', label='$r_{min}$')\n",
    "\n",
    "    \n",
    "\n",
    "    axs[0].text(4.5, 3, r'$U(r)=4 \\epsilon\\left[\\left(\\frac{\\sigma}{r}\\right)^{2 \\ n}-\\left(\\frac{\\sigma}{r}\\right)^{n}\\right] \\ \\ \\left[J = N \\ m \\right]$',\n",
    "            fontsize=18)\n",
    "    axs[1].text(4.5, 3, r'$F(r)= - \\frac{d U(r)}{d r} \\ \\ \\left[\\frac{N \\ m}{m} = N\\right]$',\n",
    "            fontsize=18)\n",
    "    arrowed_spines(fig, axs[0], w_scl=40, l_scl=80)\n",
    "    axs[0].annotate('$r$', xy=(1, 0.5), xytext=(1, 0), ha='left', va='top',\n",
    "            xycoords='axes fraction', textcoords='offset points')\n",
    "    axs[0].annotate('$U$', xy=(0, 1.05), xytext=(1, 0), ha='left', va='top',\n",
    "            xycoords='axes fraction', textcoords='offset points')\n",
    "    for ax in axs:\n",
    "        ax.legend()\n",
    "    plt.show()\n",
    "\n",
    "interactive_plot = interactive(f, e=(2, 10, 0.5), n=(3, 9, 0.5),\n",
    "                               show_tangent=widgets.ToggleButton(False, description='Show Young Modulus'))\n",
    "output = interactive_plot.children[-1]\n",
    "output.layout.height = '600px'\n",
    "interactive_plot.layout = widgets.Layout(display='flex',\n",
    "                               flex_flow='column-reverse',\n",
    "                               align_items='center',\n",
    "                               align_content='center',\n",
    "                               justify_content='center',\n",
    "                               width='100%')\n",
    "interactive_plot"
   ]
  },
  {
   "cell_type": "markdown",
   "metadata": {},
   "source": [
    "Some of the ideas on relating Young Modulus and interatomic forces where based on the work of UNSW, you may find more details on their web-page <a id=\"call-ref_syd\" href=\"#cit-ref_syd\">[2]</a>."
   ]
  },
  {
   "cell_type": "markdown",
   "metadata": {},
   "source": [
    "Now, we want to derive a relationship between the Lennard-Jones potential of a specific material and its mechanical strength. This will enable us to calculate the strength of a specific material. In order to do so, we may start by modeling the force with a widely known mathematical function, a sine wave:"
   ]
  },
  {
   "cell_type": "code",
   "execution_count": 30,
   "metadata": {
    "ExecuteTime": {
     "end_time": "2020-09-21T17:26:18.749076Z",
     "start_time": "2020-09-21T17:26:18.606647Z"
    },
    "hide_input": false
   },
   "outputs": [
    {
     "data": {
      "image/png": "[encoded data removed]",
      "text/plain": [
       "<Figure size 720x720 with 1 Axes>"
      ]
     },
     "metadata": {},
     "output_type": "display_data"
    }
   ],
   "source": [
    "# plot\n",
    "e = 6\n",
    "n = 2\n",
    "fig, axs = plt.subplots(1, 1, figsize=(10, 10))\n",
    "fig.set_facecolor('white') \n",
    "\n",
    "R_E = 4*e*(((sigma/r)**(2*n)))\n",
    "A_E = 4*e*((-(sigma/r)**n))\n",
    "N_E = R_E + A_E\n",
    "N_F = -4*e*(2*n*((sigma**(2*n)/r**(2*n+1)))-n*(sigma**(n)/r**(n+1)))\n",
    "\n",
    "axs.plot(r, N_F, c='C0', lw=2, ls='--', label='Net Energy')\n",
    "# axs.plot(r, np.gradient(N_E, r), c='C0', lw=2, ls='--', label='Net Energy')\n",
    "axs.plot([r[N_F.argmax()], r[N_F.argmax()]], [0, N_F.max()], '--', c='k')\n",
    "\n",
    "axs.set_xlim(-0.5, 10.5)\n",
    "axs.set_ylim(-10, 10)\n",
    "axs.axhline(N_F.max(), xmin=0.05, xmax=0.21, ls='--', c='k')\n",
    "\n",
    "r_ = np.linspace(r[N_E.argmin()], 10, 1000)\n",
    "axs.plot(r_, N_F.max()*np.sin(4*(r_-r_[0])), c='k', lw=1)\n",
    "\n",
    "axs.annotate(r'$\\sigma = \\frac{F}{A}$', xy=(-0.05, 0.975), xytext=(1, 0), ha='left', va='top',\n",
    "        xycoords='axes fraction', textcoords='offset points', fontsize=16)\n",
    "axs.annotate('$r$', xy=(1, 0.5), xytext=(1, 0), ha='left', va='top',\n",
    "        xycoords='axes fraction', textcoords='offset points', fontsize=16)\n",
    "axs.text(r[N_E.argmin()], -1.25, r'$x_{0}$', color='k', fontsize=16)\n",
    "axs.text(2, -4.5, r'$\\sin{\\left(\\frac{2 \\pi x}{\\lambda}\\right)}$', color='k', fontsize=14)\n",
    "\n",
    "axs.text(-0.4, N_F.max(), r'$\\sigma_c$', color='k', fontsize=16)\n",
    "\n",
    "\n",
    "arrowed_spines(fig, axs)\n",
    "arrowed_spines(fig, axs)\n",
    "axs.legend(fontsize=16)\n",
    "plt.show()"
   ]
  },
  {
   "cell_type": "markdown",
   "metadata": {},
   "source": [
    "We can find the following relationship:\n",
    "\\begin{equation}\\label{eq:sin}\n",
    "\\sigma = \\sigma_c \\sin{\\left( \\frac{2 \\pi x}{\\lambda}\\right)}\n",
    "\\end{equation}\n"
   ]
  },
  {
   "cell_type": "markdown",
   "metadata": {},
   "source": [
    "We may recall some specific points of interest of the sine function:\n",
    "\n",
    "- For $x=0$ → $\\sin{(0)} = 0$;\n",
    "\n",
    "- For $x=\\frac{\\lambda}{2}$ → $\\sin{\\left(\\frac{\\lambda}{2}\\right)} = 0$;\n",
    "\n",
    "- For $x=\\frac{\\lambda}{4}$ → $\\sin{\\left(\\frac{\\lambda}{4}\\right)} = 1$ and $\\sigma = \\sigma_c$."
   ]
  },
  {
   "cell_type": "markdown",
   "metadata": {},
   "source": [
    "We may recall the Hooke's law of perfectly elastic materials:\n",
    "\\begin{equation}\\label{eq:hooke}\n",
    "\\sigma =  E \\epsilon \\rightarrow \\sigma=E \\frac{x}{x_0}\n",
    "\\end{equation}\n",
    "\n",
    "We can rearrange and consider the derivative of the stress with $x$:\n",
    "\\begin{equation}\\label{eq:dhookedx}\n",
    "\\frac{d\\sigma}{dx}=\\frac{E}{x_0}\n",
    "\\end{equation}\n",
    "\n",
    "We may also make use of the fact that the linear elasticity assumption is only valid for small deformations, thus, we may simplify Equation \\ref{eq:sin} using the following approximation:\n",
    "\n",
    "\\begin{equation}\\label{eq:sine_simp}\n",
    "\\sin{\\left(\\frac{2 \\pi x}{\\lambda}\\right)} \\approx  \\frac{2 \\pi x}{\\lambda} \\ \\ \\text{for} \\ \\ x << 1 \n",
    "\\end{equation}\n",
    "\n",
    "We may check this in the following widget. As the parameter $\\zeta$ increases, the argument of the sine function decreases, showing that it can be approximated with its own argument."
   ]
  },
  {
   "cell_type": "code",
   "execution_count": null,
   "metadata": {},
   "outputs": [],
   "source": []
  },
  {
   "cell_type": "code",
   "execution_count": 5,
   "metadata": {
    "ExecuteTime": {
     "end_time": "2020-09-22T11:23:08.003760Z",
     "start_time": "2020-09-22T11:23:07.675763Z"
    },
    "hide_input": false
   },
   "outputs": [
    {
     "data": {
      "application/vnd.jupyter.widget-view+json": {
       "model_id": "36515e25e0ff4fb9a496b8ae81d1a49d",
       "version_major": 2,
       "version_minor": 0
      },
      "text/plain": [
       "interactive(children=(FloatSlider(value=1.0, description='$\\\\xi$', max=50.0, min=1.0, step=0.5), Output(layout…"
      ]
     },
     "metadata": {},
     "output_type": "display_data"
    }
   ],
   "source": [
    "from ipywidgets import interact\n",
    "def f(xsi):\n",
    "    r = np.linspace(1e-2, 10, num=1000)\n",
    "    plt.plot(r, np.sin(r*1/xsi), c='Navy', label=r'$\\sin{\\left(r \\ \\frac{1}{\\xi} \\right)}$')\n",
    "    plt.plot(r, (r*1/xsi), c='coral', label=r'$r \\ \\frac{1}{\\xi}$')\n",
    "    plt.legend(fontsize=15)\n",
    "    plt.xlabel('x')\n",
    "    plt.ylabel('f(x)')\n",
    "    plt.show()\n",
    "\n",
    "interactive_plot = interactive(f, xsi=widgets.FloatSlider(value=1,\n",
    "                                                       min=1,\n",
    "                                                       max=50,\n",
    "                                                       step=0.5,\n",
    "                                                       description=r'$\\xi$',\n",
    "                                                       readout_format='.2f'))\n",
    "output = interactive_plot.children[-1]\n",
    "output.layout.height = '270px'\n",
    "interactive_plot.layout = widgets.Layout(display='flex',\n",
    "                               flex_flow='column',\n",
    "                               align_items='center',\n",
    "                               align_content='center',\n",
    "                               justify_content='center',\n",
    "                               width='100%')\n",
    "interactive_plot\n"
   ]
  },
  {
   "cell_type": "markdown",
   "metadata": {},
   "source": [
    "With this approximation, Equation \\ref{eq:sin} can be written as:\n",
    "\n",
    "\\begin{equation}\\label{eq:sin_not_sin}\n",
    "\\sigma = \\sigma_c \\frac{2 \\pi x}{\\lambda}\n",
    "\\end{equation}\n",
    "\n",
    "Which can also be differentiated with respect to $x$:\n",
    "\\begin{equation}\\label{eq:dsindx}\n",
    "\\frac{d \\sigma}{d x} = \\sigma_c \\frac{2 \\pi}{\\lambda} \n",
    "\\end{equation}\n",
    "\n",
    "\n",
    "We can equate Equations \\ref{eq:dsindx} and \\ref{eq:dhookedx}, which yields:\n",
    "\n",
    "\\begin{equation}\\label{eq:sig_eq1}\n",
    "\\sigma_c \\frac{2 \\pi}{\\lambda} = \\frac{E}{x_0} \n",
    "\\end{equation}\n",
    "\n",
    "Solving for $\\sigma_c$:\n",
    "\n",
    "\\begin{equation}\\label{eq:sigma_c_close}\n",
    "\\sigma_c = \\frac{E \\lambda}{2 \\pi x_0} \\ \\ \\ \\left[\\frac{N/m^2 m}{m} = \\frac{N}{m^2} = Pa \\right]\n",
    "\\end{equation}\n",
    "\n",
    "There are some points to be addressed yet:\n",
    "- How to measure $x_0$?\n",
    "- How to measure $E$?\n",
    "- Is there any physical sense to $\\lambda$? If so, what is it?\n",
    "\n",
    "In order:\n",
    "\n",
    "> The value $x_0$ is in fact the lattice parameter of the crystal of the material we are studying. It is the equilibrium distance between the atoms or molecules. We can measure it by X-Ray diffraction, for example or using direct image through Transition Electron Microscopy (TEM) or Atomic Force Microscopy (AFM).\n",
    "\n",
    "> The Young modulus may be measured through multiple techniques such as static mechanical tests, Digital Imaging Technique or by non-destructive tests such as Impulse Excitation Technique, for some examples.\n",
    "\n",
    "> Now the $\\lambda$ parameter is a mathematical artifact. We need to find a way to remove this from our methodology. One possible strategy is to consider the work of fracture, also known as fracture energy.\n"
   ]
  },
  {
   "cell_type": "markdown",
   "metadata": {},
   "source": [
    "# Fracture Energy"
   ]
  },
  {
   "cell_type": "markdown",
   "metadata": {},
   "source": [
    "<span id=\"call-ref_bamb\" class=\"img_container center\" style=\"display: inline_block; vertical-align: top; text-align: center;\" > <img alt=\"test\" src=\"https://i.kinja-img.com/gawker-media/image/upload/s--gZxCVIAe--/c_scale,f_auto,fl_progressive,q_80,w_800/wpwhbbbxxivrk7qwbfwr.jpg\" style=\"display:block; margin-left: auto; margin-right: auto; text-align: left;\" title=\"caption\" align=\"center\" width=\"500\" height=\"600\" /> <div class=\"img_caption\" style=\"border-style: solid; border-width: 2px; border-radius: 5px; border-color:lightgrey; padding: 2px 5px; text-align: left; width=980px\"><b>Figure 2:</b> Fracture pattern of a Bamboo chopstick <a href=\"#cit-ref_bamb\">[3]</a>.</div> </span>\n"
   ]
  },
  {
   "cell_type": "markdown",
   "metadata": {},
   "source": [
    "\\begin{equation}\\label{eq:gama_wof}\n",
    "\\gamma_{wof} = \\int{\\sigma dx} = \\int_0^{\\lambda/2}{\\sigma_c \\sin{\\left(\\frac{2 \\pi x}{\\lambda}\\right)} dx} \\ \\ \\left[ \\frac{N}{m^2} \\ m\\right] = \\left[ \\frac{J}{m^2} \\right]\n",
    "\\end{equation}\n",
    "\n"
   ]
  },
  {
   "cell_type": "markdown",
   "metadata": {},
   "source": [
    "Remembering that:\n",
    "\n",
    "\\begin{equation}\\label{eq:sin_int}\n",
    "\\int{\\sin{\\left( a \\ x \\right)} dx} = - \\frac{1}{a} \\cos{\\left( a \\ x \\right)}\n",
    "\\end{equation}\n"
   ]
  },
  {
   "cell_type": "markdown",
   "metadata": {},
   "source": [
    "We find:\n",
    "\\begin{equation}\n",
    "\\begin{array}\n",
    "\\int\n",
    "\\gamma_{wof} &=\\int_0^{\\lambda/2}{\\sigma_c \\sin{\\left(a x \\right)} dx} = \\sigma_c \\int_0^{\\lambda/2}{ \\sin{\\left(a x \\right)} dx} = - \\dfrac{\\sigma_c}{a} \\cos{\\left( a x \\right)}\\vert_0^{\\lambda/2} \\\\\n",
    "  & = - \\dfrac{\\sigma_c \\lambda}{2 \\pi} \\cos{\\left( \\dfrac{\\sigma_c \\lambda}{2 \\pi} x \\right)}\\big|_0^{\\lambda/2} \\\\\n",
    "  & = - \\dfrac{\\sigma_c \\lambda}{2 \\pi} \\cos{\\left( \\dfrac{\\sigma_c \\lambda}{2 \\pi} \\dfrac{\\lambda}{2} \\right)} +\n",
    "  \\dfrac{\\sigma_c \\lambda}{2 \\pi} \\cos{\\left( \\dfrac{\\sigma_c \\lambda}{2 \\pi} 0 \\right)} \\\\\n",
    "  & = \\dfrac{\\sigma_c \\lambda}{\\pi}\n",
    "\\end{array}\n",
    "\\end{equation}\n",
    "\n"
   ]
  },
  {
   "cell_type": "markdown",
   "metadata": {},
   "source": [
    "We can isolate the non-physical $\\lambda$ in terms of the fracture energy, $\\gamma_{wof}:\n",
    "\\begin{equation}\\label{eq:lambda}\n",
    "\\frac{\\lambda}{\\pi} = \\frac{\\gamma_{wof}}{\\sigma_c}\n",
    "\\end{equation}\n",
    "\n",
    "We can also isolate such quantity in Equation \\ref{eq:sigma_c_close}:\n",
    "\n",
    "\\begin{equation}\\label{eq:sigma_c_close_lam}\n",
    "\\frac{\\lambda}{\\pi} = \\frac{\\sigma_c x_0}{E}\n",
    "\\end{equation}\n",
    "\n",
    "\n",
    "Equating such expressions yields:\n",
    "\n",
    "\\begin{equation}\\label{eq:no_lambda}\n",
    "\\frac{\\sigma_c x_0}{E} = \\frac{\\gamma_{wof}}{\\sigma_c}\n",
    "\\end{equation}\n",
    "\n",
    "Assuming that $\\gamma_{wof} = 2 \\gamma_0$ and solving for $\\sigma_c$:\n",
    "\\begin{equation}\\label{eq:sigma_th}\n",
    "\\sigma_c = \\sigma_{th} = \\sqrt{\\dfrac{\\gamma_0 E}{x_0}}\n",
    "\\end{equation}\n",
    "which is the theoretical strength of the material!\n",
    "\n",
    "To summarize, we started from the Lennard-Jones model for potential energy between two particles, modeled it as a sine wave, worked our way algebraically to remove terms with no clear physical meaning and found that the theoretical strength of the materials can be related to its surface energy, it's Young modulus and it's lattice parameter.\n",
    "\n",
    "For an example, let's use this Equation to calculate the theoretical strength of Alumina:"
   ]
  },
  {
   "cell_type": "code",
   "execution_count": 8,
   "metadata": {
    "ExecuteTime": {
     "end_time": "2020-09-22T11:23:43.738617Z",
     "start_time": "2020-09-22T11:23:43.639120Z"
    },
    "hide_input": false
   },
   "outputs": [
    {
     "data": {
      "application/vnd.jupyter.widget-view+json": {
       "model_id": "df8d949867d040d59d44cdc1a53c2ffe",
       "version_major": 2,
       "version_minor": 0
      },
      "text/plain": [
       "Tab(children=(VBox(children=(HTML(value='<b>Calculation of Alumina Theoretical Strength:</b>'), HTMLMath(value…"
      ]
     },
     "metadata": {},
     "output_type": "display_data"
    }
   ],
   "source": [
    "from ipywidgets import interact, widgets\n",
    "\n",
    "tab = widgets.Tab()\n",
    "tab.set_title(0, 'Example 1')\n",
    "title = widgets.HTML('<b>Calculation of Alumina Theoretical Strength:</b>')\n",
    "description = widgets.HTMLMath('Alumina (Al<sub>2</sub>O<sub>3</sub>) has a Young Modulus, $E$, of approximately 400GPa, with a surface energy, $\\gamma_0$ of 1.2 J/m<sup>2</sup> and a lattice parameter, $x_0$ of 4x10<sup>-10</sup> m.')\n",
    "\n",
    "part1 = 'The theoretical strength can be calculate with Equation 16, that is:'\n",
    "part2 = '$\\sigma_{th} = \\sqrt{\\dfrac{\\gamma_0 E}{x_0}}$'\n",
    "part3 = 'Substituting the values:'\n",
    "part4 = '$\\sigma_{th} = \\sqrt{\\dfrac{1.2 \\ x \\ 400x10^9}{4x10^{-10} }}$'\n",
    "part5 = r'$\\sigma_{th} \\approx 40 $ GPa'\n",
    "\n",
    "parts = [part1, part2, part3, part4, part5]\n",
    "ex = sbs(parts)\n",
    "ex.children = tuple([title, description]+list(ex.children))\n",
    "tab.children = [ex]\n",
    "tab"
   ]
  },
  {
   "cell_type": "markdown",
   "metadata": {},
   "source": [
    "<span id=\"call-ref_ash\" class=\"img_container center\" style=\"display: inline_block; vertical-align: top; text-align: center;\" > <img alt=\"test\" src=\"https://176863c84d58dd0d250c-0a97ac00c0c5c2a76ca48b133cb26bb6.ssl.cf1.rackcdn.com/2017/05/specific_strength_crop-1024x782.png\" style=\"display:block; margin-left: auto; margin-right: auto; text-align: left;\" title=\"Ashby Plot\" align=\"center\" width=\"500\" height=\"600\" /> <div class=\"img_caption\" style=\"border-style: solid; border-width: 2px; border-radius: 5px; border-color:lightgrey; padding: 2px 5px; text-align: left; width=980px\"><b>Figure 2:</b> Ashby materials selection chart of specific strength versus specific modulus <a href=\"#cit-ref_ash\">[4]</a>.</div> </span>\n"
   ]
  },
  {
   "cell_type": "markdown",
   "metadata": {},
   "source": [
    "Just for reference, we may use an Ashby plot to see ordinary values of the strength of materials. Alumina's density is 3950 kg/m<sup>3</sup>, thus, its strength is at most 400MPa! The difference between experimental, $\\sigma_{exp}$ and theoretical $\\sigma_{th}$ values is 100 times! In some materials it can reach 1000.\n"
   ]
  },
  {
   "cell_type": "markdown",
   "metadata": {},
   "source": [
    "But what is the reason why $\\sigma_{exp}$ is so lower than the expected $\\sigma_{th}$?\n",
    "\n",
    "To get some insight lets consider an hypothetical tensile test with two different samples, $S_1$ and $S_2$, which broke when the applied force reached $F_1$ and $F_2$, respectively:"
   ]
  },
  {
   "cell_type": "code",
   "execution_count": 37,
   "metadata": {
    "ExecuteTime": {
     "end_time": "2020-09-21T17:28:20.811132Z",
     "start_time": "2020-09-21T17:28:20.635060Z"
    },
    "hide_input": true
   },
   "outputs": [
    {
     "data": {
      "image/png": "[encoded data removed]",
      "text/plain": [
       "<Figure size 720x288 with 1 Axes>"
      ]
     },
     "metadata": {
      "needs_background": "light"
     },
     "output_type": "display_data"
    }
   ],
   "source": [
    "fig, ax = plt.subplots(figsize=(10, 4))\n",
    "\n",
    "r1 = Rectangle([0, 0], 0.2, 1, ec='k', lw=2.5, fc='skyblue')\n",
    "plt.text(0.035, 0.85, '$S_1$', fontsize=14)\n",
    "\n",
    "ax.add_patch(r1)\n",
    "plt.plot([0, 0.2], [0.3, 0.3], c='k', lw=1.5)\n",
    "plt.text(0.095, 0.34, '$A_1$', fontsize=14)\n",
    "ax.arrow(0.1, -0.01, 0, -0.14, head_width=0.025, head_length=0.04,\n",
    "          lw=2.5, fc='k')\n",
    "plt.text(0.125, -0.15, '$F_1$', fontsize=14)\n",
    "ax.arrow(0.1, 1, 0, 0.14, head_width=0.025, head_length=0.04,\n",
    "          lw=2.5, fc='k')\n",
    "plt.text(0.125, 1.15, '$F_1$', fontsize=14)\n",
    "\n",
    "\n",
    "r2 = Rectangle([0.3, 0], 0.2, 1, ec='k', lw=2.5, fc='skyblue')\n",
    "plt.text(0.3+0.035, 0.85, '$S_2$', fontsize=14, zorder=9)\n",
    "ax.add_patch(r2)\n",
    "plt.plot([0+0.3, 0.2+0.3], [0.3, 0.3], c='k', lw=1.5, zorder=9)\n",
    "\n",
    "plt.text(0.095+0.3, 0.34, '$A_1$', fontsize=14, zorder=9)\n",
    "ax.arrow(0.1+0.3, -0.01, 0, -0.14, head_width=0.025, head_length=0.04,\n",
    "          lw=2.5, fc='k')\n",
    "plt.text(0.125+0.3, -0.15, '$F_2$', fontsize=14)\n",
    "ax.arrow(0.1+0.3, 1, 0, 0.14, head_width=0.025, head_length=0.04,\n",
    "          lw=2.5, fc='k')\n",
    "plt.text(0.125+0.3, 1.15, '$F_2$', fontsize=14)\n",
    "\n",
    "\n",
    "plt.plot([0.3, 0.325], [0.5, 0.5], c='w', lw=2, zorder=4)\n",
    "plt.plot([0.475, 0.51], [0.5, 0.5], c='w', lw=2, zorder=4)\n",
    "\n",
    "r3 = Rectangle([0.325, 0], 0.15, 1, ec='k', lw=2.5, ls='--', fc='skyblue', zorder=8)\n",
    "ax.add_patch(r3)\n",
    "\n",
    "plt.text(0.095+0.6, 0.34, '$A_2$', fontsize=14)\n",
    "ax.arrow(0.1+0.6, -0.01, 0, -0.14, head_width=0.025, head_length=0.04,\n",
    "          lw=2.5, fc='k')\n",
    "plt.text(0.125+0.6, -0.15, '$F_2$', fontsize=14)\n",
    "ax.arrow(0.1+0.6, 1, 0, 0.14, head_width=0.025, head_length=0.04,\n",
    "          lw=2.5, fc='k')\n",
    "plt.text(0.125+0.6, 1.15, '$F_2$', fontsize=14)\n",
    "\n",
    "r4 = Rectangle([0.625, 0], 0.15, 1, ec='k', lw=2.5, fc='skyblue')\n",
    "ax.add_patch(r4)\n",
    "plt.plot([0.625, 0.775], [0.3, 0.3], c='k', lw=1.5, zorder=9)\n",
    "\n",
    "# r5 = Rectangle([0.6, 0], 0.2, 1, ec='k', lw=2.5, fc='none', ls='--')\n",
    "# ax.add_patch(r5)\n",
    "ax.arrow(0.4775, 0.75, 0.15-0.035, 0.00, head_width=0.075, head_length=0.03,\n",
    "          lw=2.5, fc='k')\n",
    "\n",
    "ax.set_xlim(-0.1, 1)\n",
    "ax.set_ylim(-0.2, 1.2)\n",
    "\n",
    "ax.axis('off')\n",
    "plt.show()"
   ]
  },
  {
   "cell_type": "markdown",
   "metadata": {},
   "source": [
    "We may calculate the failure stresses as: $$\\sigma_{f,1} = \\dfrac{F_1}{A_1}$$ or $$\\sigma_{f,2} = \\dfrac{F_2}{A_1}$$ or considering only the portion of the second sample with no defect, thus: $$\\sigma_{f,3} = \\dfrac{F_2}{A_2}$$"
   ]
  },
  {
   "cell_type": "code",
   "execution_count": 6,
   "metadata": {
    "ExecuteTime": {
     "end_time": "2020-09-22T11:23:20.639723Z",
     "start_time": "2020-09-22T11:23:20.597796Z"
    },
    "hide_input": true
   },
   "outputs": [
    {
     "data": {
      "application/vnd.jupyter.widget-view+json": {
       "model_id": "fe065f93a27a436bb31bfd1ce28834a1",
       "version_major": 2,
       "version_minor": 0
      },
      "text/plain": [
       "VBox(children=(HTMLMath(value='\\n          Which affirmation is right?\\n          \\n          <p>I)   $\\\\sigma…"
      ]
     },
     "metadata": {},
     "output_type": "display_data"
    }
   ],
   "source": [
    "question = '''\n",
    "          Which affirmation is right?\n",
    "          \n",
    "          <p>I)   $\\sigma_{f, 1} = \\sigma_{f, 2}$</p>\n",
    "          \n",
    "          <p>II)  $\\sigma_{f, 1} \\gt \\sigma_{f, 2}$</p>\n",
    "          \n",
    "          <p>III) $\\sigma_{f, 1} = \\sigma_{f, 3}$</p>\n",
    "          \n",
    "          <p>IV) $\\sigma_{f, 1} \\gt \\sigma_{f, 3}$</p>\n",
    "          \n",
    "          '''\n",
    "Q1 = create_multipleChoice_widget(question,['I','II','III', 'IV', 'II and III', 'II and V'], 'II and V')\n",
    "Q1.layout = widgets.Layout(display='flex',\n",
    "                               flex_flow='column',\n",
    "                               align_items='center',\n",
    "                               align_content='center',\n",
    "                               justify_content='center',\n",
    "                               width='100%')\n",
    "display(Q1)"
   ]
  },
  {
   "cell_type": "markdown",
   "metadata": {},
   "source": [
    "The defects act concentrating stress, thus the force to break the samples will be lower for the one with defect, yielding $\\sigma_{f, 1} \\gt \\sigma_{f, 2}$. Furthermore, even if we only consider the region without the defect, as it concentrates the stress ahead of it, the failure stress for the sample with no defect will still be higher than if we consider only the region with no defect, thus, $\\sigma_{f, 1} \\gt \\sigma_{f, 3}$."
   ]
  },
  {
   "cell_type": "markdown",
   "metadata": {},
   "source": [
    "It turns out that something acts as a multiplier of the stress applied, providing a local load that surpasses the theoretical value. This something is the stress concentration factor, more popularly known as defects."
   ]
  },
  {
   "cell_type": "markdown",
   "metadata": {},
   "source": [
    "# Stress Concentration Factor"
   ]
  },
  {
   "cell_type": "markdown",
   "metadata": {},
   "source": [
    "In order to understand how the defects acts as stress concentration factors we will make use of an abstraction of the internal reactive forces inside the material, we will call them as force lines. A force line depicts the internal force acting within a body across imaginary internal surfaces. The more dense the distribution of the line forces in a specific region, the higher the stress concentration in it.\n",
    "\n",
    "Let's see them for a material under tensile tension. First click on the \"Plot Force Lines\" button for a material with no defects.\n",
    "\n",
    "You will see a set of force lines. After this, deactivate the visualization of the force lines and add a defect on the material. You will be able to change the curvature radius of the defect, but before that, plot the force lines again by clicking the \"Plot Force Lines\" button.\n",
    "\n",
    "What do you see?\n",
    "\n",
    "What are the effect on the force lines?\n",
    "\n",
    "Can you relate this to what happens inside the material?\n",
    "\n",
    "Now, uncheck the Plot Force Lines and play with the slider of the radius of curvature. Every time you are curios, feel free to plot the force lines.\n",
    "\n",
    "***Obs.: This order of interaction is just to avoid long times for rendering the force lines.***"
   ]
  },
  {
   "cell_type": "code",
   "execution_count": 39,
   "metadata": {
    "ExecuteTime": {
     "end_time": "2020-09-21T17:28:38.937485Z",
     "start_time": "2020-09-21T17:28:38.900585Z"
    },
    "hide_input": true,
    "run_control": {
     "marked": false
    }
   },
   "outputs": [],
   "source": [
    "def circle(C, R):\n",
    "    t=np.linspace(0,2*np.pi, 200)\n",
    "    return C+R*np.exp(1j*t)\n",
    "def Juc(z, lam):#Joukowski transformation\n",
    "    return z+(lam**2)/z\n",
    "\n",
    "def deg2radians(deg):\n",
    "    return deg*np.pi/180\n",
    "\n",
    "def compute_lines(rho):\n",
    "    '''\n",
    "    Based on the Joukowski transformation of the potential flow past a cylinder.\n",
    "    For reference:\n",
    "    https://people.eng.unimelb.edu.au/asho/PotentialFlow/notes.pdf\n",
    "    https://github.com/luca6331/joukowskiAirfoilVisualization/blob/master/Report.pdf\n",
    "    https://nbviewer.jupyter.org/github/empet/Math/blob/master/Joukowski-airfoil.ipynb\n",
    "    \n",
    "    '''\n",
    "\n",
    "    V_inf = 1\n",
    "    R = 1\n",
    "    lam = (R**2 + R*rho/2 - R*(8*R*rho + rho**2)**0.5/2)**0.5\n",
    "    alpha=deg2radians(0) # angle of attack\n",
    "    beta=deg2radians(0)  # -beta is the argument of the complex no (Joukovski parameter - circle center)\n",
    "    center_c= 0 # Center of the circle\n",
    "    x=np.arange(-3.5, 3.5, 0.1)\n",
    "    y=np.arange(-5, 5, 0.1)\n",
    "    x,y=np.meshgrid(x,y)\n",
    "    z=x+1j*y\n",
    "    z=ma.masked_where(np.absolute(z-center_c)<=R, z)\n",
    "    Z=z-center_c\n",
    "    Z = -1j*Z\n",
    "    Gamma=-4*np.pi*V_inf*R*np.sin(beta+alpha)\n",
    "    U=np.zeros(Z.shape, dtype=np.complex)\n",
    "    with np.errstate(all='ignore'):#avoid warning when evaluates np.log(0+1jy).\n",
    "                                         #In this case the arg is arctan(y/0)+cst\n",
    "            for m in range(Z.shape[0]):\n",
    "                for n in range(Z.shape[1]):\n",
    "                    #U[m,n]=Gamma*np.log(Z[m,n]/R)/(2*np.pi)# \n",
    "                     U[m,n]=Gamma*np.log((Z[m,n]*np.exp(-1j*alpha))/R)/(2*np.pi)\n",
    "    c_flow= V_inf*Z*np.exp(-1j*alpha) + (V_inf*np.exp(1j*alpha)*R**2)/Z - 1j*U #the complex flow\n",
    "    J=Juc(z, lam)\n",
    "    Circle=circle(0, R)\n",
    "    Airfoil=Juc(Circle, lam)# airfoil \n",
    "    return J, c_flow.imag, Airfoil, rho"
   ]
  },
  {
   "cell_type": "code",
   "execution_count": 7,
   "metadata": {
    "ExecuteTime": {
     "end_time": "2020-09-22T11:23:29.745999Z",
     "start_time": "2020-09-22T11:23:28.776528Z"
    },
    "hide_input": false
   },
   "outputs": [
    {
     "data": {
      "application/vnd.jupyter.widget-view+json": {
       "model_id": "3772793cd7064320a336e3098f6b8be0",
       "version_major": 2,
       "version_minor": 0
      },
      "text/plain": [
       "interactive(children=(FloatSlider(value=1.0, description='$\\\\rho$', max=1.0, min=0.01, step=0.01), ToggleButto…"
      ]
     },
     "metadata": {},
     "output_type": "display_data"
    }
   ],
   "source": [
    "from ipywidgets import interact\n",
    "np.seterr(all='ignore')\n",
    "def f(rho, defect, show_lines):\n",
    "    fig, ax = plt.subplots(figsize=(6, 6))\n",
    "    r = Rectangle([-3.5, -4.75], 6.95, 9.5, facecolor='none', edgecolor='k', zorder=10)\n",
    "    if not defect:\n",
    "        if not show_lines:\n",
    "            ax.add_patch(r)\n",
    "\n",
    "            \n",
    "        if show_lines:\n",
    "            xcoords = np.linspace(-3.5, 3.5, 50)\n",
    "            ax.add_patch(r)\n",
    "            for xc in xcoords:\n",
    "                perf = plt.axvline(x=xc, c='blue', lw=1)\n",
    "                perf.set_clip_path(r)\n",
    "    if defect: \n",
    "        if not show_lines:\n",
    "            R = 1\n",
    "            lam = (R**2 + R*rho/2 - R*(8*R*rho + rho**2)**0.5/2)**0.5\n",
    "            c = 1\n",
    "            b = c*rho**0.5\n",
    "            Circle=circle(0, R)\n",
    "            Airfoil=Juc(Circle, lam)\n",
    "            ax.plot(Airfoil.real, Airfoil.imag, c='k')\n",
    "            ax.add_patch(r)\n",
    "\n",
    "        if show_lines:\n",
    "            J, stream_func, Airfoil, rho = compute_lines(rho)\n",
    "            cp=ax.contour(J.real, J.imag, stream_func,levels=100, colors='blue', linewidths=1,\n",
    "                            linestyles='solid')# this means that the flow is evaluated at Juc(z) since c_flow(Z)=C_flow(csi(Z))\n",
    "            ax.add_patch(r)\n",
    "\n",
    "            for col in cp.collections:\n",
    "                col.set_clip_path(r)\n",
    "            ax.plot(Airfoil.real, Airfoil.imag, c='k')\n",
    "            ax.set_xlim(-5.5, 5.5)\n",
    "            ax.set_ylim(-5.5, 5.5)\n",
    "        \n",
    "    plt.annotate('', xy = (0, 4.725), \\\n",
    "        xytext = (0, 5.5), fontsize = 20, \\\n",
    "        color = '#303030', arrowprops=dict(edgecolor='black', arrowstyle = '<-'))\n",
    "    plt.text(0.25, 5.25, r'$\\sigma_{app}$', fontsize=14)\n",
    "        \n",
    "    plt.annotate('', xy = (0, -4.725), \\\n",
    "        xytext = (0, -5.5), fontsize = 20, \\\n",
    "        color = '#303030', arrowprops=dict(edgecolor='black', arrowstyle = '<-'))\n",
    "    plt.text(0.25, -5.5, r'$\\sigma_{app}$', fontsize=14)\n",
    "\n",
    "    ax.axis('off')\n",
    "    ax.set_xlim(-5.5, 5.5)\n",
    "    ax.set_ylim(-5.5, 5.5)\n",
    "    plt.show()\n",
    "\n",
    "interactive_plot = interactive(f, show_lines=widgets.ToggleButton(False, description='Plot Force Lines'),\n",
    "                               rho=widgets.FloatSlider(value=5,\n",
    "                                                       min=0.01,\n",
    "                                                       max=1,\n",
    "                                                       step=0.01,\n",
    "                                                       description=r'$\\rho$',\n",
    "                                                       readout_format='.2f'),\n",
    "                                defect=widgets.ToggleButton(False, description='Add defect'))\n",
    "output = interactive_plot.children[-1]\n",
    "output.layout.height = '360px'\n",
    "interactive_plot.layout = widgets.Layout(display='flex',\n",
    "                               flex_flow='column-reverse',\n",
    "                               align_items='center',\n",
    "                               align_content='center',\n",
    "                               justify_content='center',\n",
    "                               width='100%')\n",
    "interactive_plot\n"
   ]
  },
  {
   "cell_type": "markdown",
   "metadata": {},
   "source": [
    "The direct consequence of this behavior is that the stress \"felt\" on the defect tip is multiplied by a constant, the stress concentration factor $K_t$, as we can see below:"
   ]
  },
  {
   "cell_type": "code",
   "execution_count": 47,
   "metadata": {
    "ExecuteTime": {
     "end_time": "2020-09-21T17:30:06.011024Z",
     "start_time": "2020-09-21T17:30:03.339706Z"
    },
    "hide_input": true
   },
   "outputs": [
    {
     "data": {
      "image/png": "[encoded data removed]",
      "text/plain": [
       "<Figure size 720x288 with 1 Axes>"
      ]
     },
     "metadata": {
      "needs_background": "light"
     },
     "output_type": "display_data"
    }
   ],
   "source": [
    "fig, ax = plt.subplots(figsize=(10, 4))\n",
    "\n",
    "\n",
    "r2 = Rectangle([0.3, 0], 0.2, 1, ec='k', lw=2.5, fc='skyblue')\n",
    "# plt.text(0.3+0.045, 0.85, '$S_2$', fontsize=18, zorder=9)\n",
    "ax.add_patch(r2)\n",
    "# plt.plot([0+0.3, 0.2+0.3], [0.3, 0.3], c='k', lw=1.5, zorder=9)\n",
    "e1 = Ellipse([0.4, 0.5], 0.1, 0.05, zorder=9, fc='w', ec='k')\n",
    "ax.add_patch(e1)\n",
    "for i in np.linspace(0.3, 0.5-0.015, 12):\n",
    "    plt.plot([i, i+0.015], [-0.1, 0], c='k', lw=1.5, zorder=9)\n",
    "\n",
    "\n",
    "# plt.text(0.095+0.3, 0.34, '$A_1$', fontsize=18, zorder=9)\n",
    "# ax.arrow(0.1+0.3, -0.01, 0, -0.14, head_width=0.025, head_length=0.04,\n",
    "#           lw=2.5, fc='k')\n",
    "# plt.text(0.125+0.3, -0.15, '$F_2$', fontsize=18)\n",
    "ax.arrow(0.1+0.3, 1, 0, 0.14, head_width=0.025, head_length=0.04,\n",
    "          lw=2.5, fc='k')\n",
    "plt.text(0.125+0.3, 1.15, '$\\sigma_{ap}$', fontsize=18)\n",
    "\n",
    "ax.arrow(0.1+0.3+0.05, 0.5, 0, 0.35, head_width=0.025, head_length=0.04,\n",
    "          lw=2.5, fc='k', zorder=11)\n",
    "plt.text(0.125+0.3+0.04, 0.825, '$\\sigma_{y}$', fontsize=18)\n",
    "\n",
    "plt.text(0.515, 0.825, r'$K_t = \\displaystyle \\frac{\\sigma_{y}}{\\sigma_{app}}$', fontsize=18)\n",
    "\n",
    "# plt.plot([0.3, 0.325], [0.5, 0.5], c='w', lw=2, zorder=4)\n",
    "# plt.plot([0.475, 0.51], [0.5, 0.5], c='w', lw=2, zorder=4)\n",
    "\n",
    "ax.set_xlim(-0.1, 1)\n",
    "ax.set_ylim(-0.2, 1.2)\n",
    "\n",
    "ax.axis('off')\n",
    "plt.show()"
   ]
  },
  {
   "cell_type": "markdown",
   "metadata": {},
   "source": [
    "For a cylindric defect, $K_t=3$ and we can analytically calculate the stress distribution around it, as seen in the blue curve below:"
   ]
  },
  {
   "cell_type": "code",
   "execution_count": 48,
   "metadata": {
    "ExecuteTime": {
     "end_time": "2020-09-21T17:30:18.030663Z",
     "start_time": "2020-09-21T17:30:17.784386Z"
    },
    "hide_input": false
   },
   "outputs": [
    {
     "data": {
      "image/png": "[encoded data removed]",
      "text/plain": [
       "<Figure size 576x576 with 2 Axes>"
      ]
     },
     "metadata": {
      "needs_background": "light"
     },
     "output_type": "display_data"
    }
   ],
   "source": [
    "fig = plt.figure(figsize=(8, 8))\n",
    "a = 0.01\n",
    "b = 0.02\n",
    "c = a\n",
    "e = Ellipse([0, 0], 2*c, 2*c,  facecolor='grey', edgecolor='k', zorder=10)\n",
    "plt.gca().add_artist(e)\n",
    "r = Rectangle([-0.06, -0.065], 0.12, 0.13, facecolor='w', edgecolor='k')\n",
    "plt.gca().add_artist(r)\n",
    "\n",
    "plt.ylim(-0.08, 0.08)\n",
    "plt.xlim(-0.08, 0.08)\n",
    "# plt.axvline(c, ymin=0.1, ymax=0.9, c='k', lw=0.5, ls='--', zorder=3)\n",
    "# plt.axvline(-c, ymin=0.1, ymax=0.9, c='k', lw=0.5, ls='--', zorder=3)\n",
    "plt.axis('off')\n",
    "\n",
    "xs = np.linspace(a, 0.05)\n",
    "sigma_ap = 0.05\n",
    "theta = np.pi/2\n",
    "sig_rr = lambda r: sigma_ap / 2 * (1 + (a / r)**2) - sigma_ap / 2 * (1 + 3 * (a / r)**4) * np.cos(2*theta)\n",
    "\n",
    "ax_2 = plt.gca().twinx()\n",
    "ax_2.plot(xs, sig_rr(xs)+0.125, c='blue')\n",
    "for x, y in zip(xs[::5], sig_rr(xs)[::5]):\n",
    "    plt.plot([x, x], [0.125, y+0.125], lw=1, c='k')\n",
    "    plt.plot([-x, -x], [0.125, y+0.125], lw=1, c='k')\n",
    "\n",
    "ax_2.plot(-xs, sig_rr(xs)+0.125, c='blue')\n",
    "ax_2.axhline(sigma_ap+0.125, xmin=0.15, xmax=0.85, c='k', lw=1.5, ls='-')\n",
    "ax_2.axhline(3*sigma_ap+0.125, xmin=0.15, xmax=0.85, c='k', lw=1.5, ls='-')\n",
    "ax_2.set_ylim(0, 0.35)\n",
    "ax_2.axis('off')\n",
    "plt.annotate('', xy = (-0.06, 0.125), \\\n",
    "    xytext = (0.06, 0.125), fontsize = 16, \\\n",
    "    color = '#303030', arrowprops=dict(edgecolor='black', arrowstyle = '<->', shrinkA = 0, shrinkB = 0))\n",
    "plt.text(0.055, 0.110, '$r$', fontsize=14)\n",
    "plt.text(0.0485, sigma_ap-0.0125+0.125, r'$\\sigma_{app}$', fontsize=14)\n",
    "plt.text(0.0325, 3*sigma_ap-0.0125+0.125, r'$\\sigma_y = 3 \\sigma_{app}$', fontsize=14)\n",
    "\n",
    "plt.text(0, 0.355, r'$\\sigma_{app}$', fontsize=14)\n",
    "plt.annotate('', xy = (0, 0.316), \\\n",
    "    xytext = (0, 0.355), fontsize = 20, \\\n",
    "    color = '#303030', arrowprops=dict(edgecolor='black', arrowstyle = '<-'))\n",
    "# plt.arrow(0, 0.338, 0, 0.005, width=0.0005)\n",
    "\n",
    "plt.text(0.0025, 0, r'$\\sigma_{app}$', fontsize=14)\n",
    "plt.annotate('', xy = (0, 0), \\\n",
    "    xytext = (0, 0.033), fontsize = 20, \\\n",
    "    color = '#303030', arrowprops=dict(edgecolor='black', arrowstyle = '->'))\n",
    "# plt.arrow(0, 0.338, 0, 0.005, width=0.0005)\n",
    "plt.show()"
   ]
  },
  {
   "cell_type": "markdown",
   "metadata": {
    "hide_input": false
   },
   "source": [
    "<div id=\"call-ref_fmorg\"></div>"
   ]
  },
  {
   "cell_type": "markdown",
   "metadata": {},
   "source": [
    "For an elliptical defect, as we saw earlier, Charles E. Inglis found a specific value for $K_t$.\n",
    "His solution can be found in the [original publication](https://imechanica.org/files/1913%20Inglis%20Stress%20in%20a%20plate%20due%20to%20the%20presence%20of%20cracks%20and%20sharp%20corners_0.pdf). For further information, check\n",
    "<a href=\"#cit-ref_fmorg\">[5]</a>. Considering this lesson, the important result is that: \n",
    "\\begin{equation}\\label{eq:K_t}\n",
    "K_t = \\left(1 + 2 \\dfrac{c}{b} \\right)\n",
    "\\end{equation}\n",
    "\n",
    "Defining the radius of curvature, $\\rho$, as the biggest circle that touches the ellipse in a single point we can have a parameter that is related to the shape of this defect. Considering the ellipse's height and width, $2b$ and $2c$, respectively, we find:\n",
    "\n",
    "\\begin{equation}\\label{eq:radius_of_curv}\n",
    "\\rho = \\dfrac{b^2}{c}\n",
    "\\end{equation}\n",
    "\n",
    "Thus:\n",
    "\n",
    "\\begin{equation}\\label{eq:K_t_ell}\n",
    "K_t = \\left(1 + 2 \\sqrt{\\dfrac{c}{\\rho}} \\right)\n",
    "\\end{equation}"
   ]
  },
  {
   "cell_type": "code",
   "execution_count": 58,
   "metadata": {
    "ExecuteTime": {
     "end_time": "2020-09-21T17:31:59.125935Z",
     "start_time": "2020-09-21T17:31:58.978542Z"
    },
    "hide_input": false
   },
   "outputs": [
    {
     "data": {
      "image/png": "[encoded data removed]",
      "text/plain": [
       "<Figure size 720x288 with 1 Axes>"
      ]
     },
     "metadata": {
      "needs_background": "light"
     },
     "output_type": "display_data"
    }
   ],
   "source": [
    "fig, ax = plt.subplots(figsize=(10, 4))\n",
    "\n",
    "\n",
    "r2 = Rectangle([0.3, 0], 0.25, 1, ec='k', lw=2.5, fc='skyblue')\n",
    "# plt.text(0.3+0.045, 0.85, '$S_2$', fontsize=14, zorder=9)\n",
    "ax.add_patch(r2)\n",
    "# plt.plot([0+0.3, 0.2+0.3], [0.3, 0.3], c='k', lw=1.5, zorder=9)\n",
    "e1 = Ellipse([0.425, 0.5], 0.1, 0.05, zorder=9, fc='w', ec='k')\n",
    "# plt.arrow(0.4, 0.4, 0.075, 0, head_width=0.075, head_length=0.0,\n",
    "#           ec='k', lw=2.5, fc='k', zorder=9, stylr='')\n",
    "\n",
    "plt.annotate(s='', xy=(0.345+0.025,0.45), xytext=(0.455+0.025,0.45),\n",
    "             arrowprops=dict(arrowstyle='|-|, widthA=0.4,widthB=0.4', linewidth=2))\n",
    "\n",
    "plt.text(0.325+0.115/2+0.025, 0.35, '2c', fontsize=14)\n",
    "\n",
    "\n",
    "plt.annotate(s='', xy=(0.49, 0.475), xytext=(0.49,0.525),\n",
    "             arrowprops=dict(arrowstyle='|-|, widthA=0.4,widthB=0.4', linewidth=2))\n",
    "\n",
    "plt.text(0.505, 0.475, '2b', fontsize=14)\n",
    "\n",
    "ax.add_patch(e1)\n",
    "for i in np.linspace(0.3, 0.55, 6):\n",
    "    plt.arrow(i+0.001, -0.01, 0, -0.11, head_width=0.025, head_length=0.04,\n",
    "          ec='k', lw=2.5, fc='k', zorder=9)\n",
    "    plt.arrow(i+0.001, 1, 0, 0.11, head_width=0.025, head_length=0.04,\n",
    "          ec='k', lw=2.5, fc='k', zorder=9)\n",
    "\n",
    "ax.arrow(0.3+0.05+0.025, 0.5, 0, 0.225, head_width=0.025, head_length=0.04,\n",
    "          lw=2.5, fc='k', zorder=11)\n",
    "plt.text(0.125+0.16+0.025, 0.8, r'$\\sigma_{y} = \\sigma_{ap} \\left(1 + 2 \\sqrt{ \\displaystyle \\frac{c}{\\rho}} \\right)$', fontsize=13)\n",
    "# plt.text(0.095+0.3, 0.34, '$A_1$', fontsize=14, zorder=9)\n",
    "# ax.arrow(0.1+0.3, -0.01, 0, -0.14, head_width=0.025, head_length=0.04,\n",
    "#           lw=2.5, fc='k')\n",
    "# plt.text(0.125+0.3, -0.15, '$F_2$', fontsize=14)\n",
    "plt.text(0.085+0.3, 1.225, '$\\sigma_{ap}$', fontsize=14)\n",
    "plt.text(0.085+0.3, -0.25, '$\\sigma_{ap}$', fontsize=14)\n",
    "\n",
    "plt.text(0.6, 0.825, r'$K_t = \\displaystyle \\frac{\\sigma_{y}}{\\sigma_{app}} = \\left(1 + 2 \\sqrt{ \\displaystyle \\frac{c}{\\rho}} \\right)$', fontsize=14)\n",
    "\n",
    "# plt.plot([0.3, 0.325], [0.5, 0.5], c='w', lw=2, zorder=4)\n",
    "# plt.plot([0.475, 0.51], [0.5, 0.5], c='w', lw=2, zorder=4)\n",
    "\n",
    "ax.set_xlim(-0.1, 1)\n",
    "ax.set_ylim(-0.2, 1.2)\n",
    "\n",
    "ax.axis('off')\n",
    "plt.show()"
   ]
  },
  {
   "cell_type": "markdown",
   "metadata": {},
   "source": [
    "Now we may consider that we increase $\\sigma_{ap}$ until the material fails. In this case, what do you think $\\sigma_y$ would be?\n",
    "\n",
    "We may consider that on the defect tip, we reached the theoretical failure stress that we modeled earlier deriving from the Lennard-Jones potential, that is, mathematically we find that:\n",
    "\n",
    "\\begin{equation}\\label{eq:sig_theo_Kt}\n",
    "\\begin{array}{ll}\n",
    "\\sigma_y & = \\sigma_{ap}  \\ K_t \\\\\n",
    "\\ \\downarrow & \\ \\ \\ \\ \\downarrow \\\\\n",
    "\\sigma_{th} & = \\sigma_{f} \\  K_t\n",
    "\\end{array}\n",
    "\\end{equation}\n"
   ]
  },
  {
   "cell_type": "markdown",
   "metadata": {
    "ExecuteTime": {
     "end_time": "2020-09-15T01:08:04.899578Z",
     "start_time": "2020-09-15T01:08:04.878632Z"
    }
   },
   "source": [
    "> **Closing Thoughts**\n",
    "\n",
    "> We end this module with one provoking question:\n",
    "\n",
    "> ***Does the material fail when it is subject to $\\sigma_{th}$ or $\\sigma_f$?***"
   ]
  },
  {
   "cell_type": "markdown",
   "metadata": {},
   "source": [
    "# References"
   ]
  },
  {
   "cell_type": "markdown",
   "metadata": {},
   "source": [
    "[1] <a href=\"https://www.syalons.com/2018/08/27/the-modulus-of-rupture-of-silicon-nitride-ceramics/?utm_source=&utm_medium=&utm_campaign=\" target=\"_blank\" rel=\"noopener noreferrer\">International Syalons, The Modulus of Rupture of Silicon Nitride Ceramics.</a> <a id=\"cit-ref_3pt\" href=\"#call-ref_3pt\">[↩]</a>\n",
    "\n",
    "[2] <a href=\"https://www.animations.physics.unsw.edu.au/jw/elasticity.htm\" target=\"_blank\" rel=\"noopener noreferrer\">School of Physics Sydney, Young's modulus, Hooke's law and material properties.</a> <a id=\"cit-ref_syd\" href=\"#call-ref_syd\">[↩]</a>\n",
    "\n",
    "[3] <a href=\"https://journals.aps.org/prl/abstract/10.1103/PhysRevLett.116.035501\" target=\"_blank\" rel=\"noopener noreferrer\">S. T. Tsai, L. M. Wang, P. Huang, Z. Yang, C. De Chang, and T. M. Hong, “Acoustic Emission from Breaking a Bamboo Chopstick,” Phys. Rev. Lett., vol. 116, no. 3, p. 035501, Jan. 2016.</a> <a id=\"cit-ref_bamb\" href=\"#call-ref_bamb\">[↩]</a>\n",
    "\n",
    "[4]<a href=\"https://www.amazon.com/Materials-Selection-Mechanical-Design-Michael-dp-0081005997/dp/0081005997/ref=dp_ob_title_bk\" target=\"_blank\" rel=\"noopener noreferrer\"> Ashby, M. F. (2017). Materials selection in mechanical design.</a> <a id=\"cit-ref_ash\" href=\"#call-ref_ash\">[↩]</a>\n",
    " \n",
    "[5]<a href=\"https://www.fracturemechanics.org/ellipse.html\" target=\"_blank\" rel=\"noopener noreferrer\"> Fracture Mechanics Website</a> <a id=\"cit-ref_fmorg\" href=\"#call-ref_fmorg\">[↩]</a>\n",
    " \n",
    " \n"
   ]
  }
 ],
 "metadata": {
  "gist": {
   "data": {
    "description": "Lesson 1 - Theoretical Stregth and Stress Concentrations.ipynb",
    "public": false
   },
   "id": ""
  },
  "hide_input": true,
  "kernelspec": {
   "display_name": "Python 3",
   "language": "python",
   "name": "python3"
  },
  "language_info": {
   "codemirror_mode": {
    "name": "ipython",
    "version": 3
   },
   "file_extension": ".py",
   "mimetype": "text/x-python",
   "name": "python",
   "nbconvert_exporter": "python",
   "pygments_lexer": "ipython3",
   "version": "3.7.7"
  },
  "latex_envs": {
   "LaTeX_envs_menu_present": true,
   "autoclose": false,
   "autocomplete": true,
   "bibliofile": "biblio.bib",
   "cite_by": "apalike",
   "current_citInitial": 1,
   "eqLabelWithNumbers": true,
   "eqNumInitial": 1,
   "hotkeys": {
    "equation": "Ctrl-E",
    "itemize": "Ctrl-I"
   },
   "labels_anchors": false,
   "latex_user_defs": false,
   "report_style_numbering": true,
   "user_envs_cfg": false
  },
  "toc": {
   "base_numbering": 1,
   "nav_menu": {},
   "number_sections": true,
   "sideBar": true,
   "skip_h1_title": false,
   "title_cell": "Table of Contents",
   "title_sidebar": "Contents",
   "toc_cell": false,
   "toc_position": {},
   "toc_section_display": true,
   "toc_window_display": false
  },
  "varInspector": {
   "cols": {
    "lenName": 16,
    "lenType": 16,
    "lenVar": 40
   },
   "kernels_config": {
    "python": {
     "delete_cmd_postfix": "",
     "delete_cmd_prefix": "del ",
     "library": "var_list.py",
     "varRefreshCmd": "print(var_dic_list())"
    },
    "r": {
     "delete_cmd_postfix": ") ",
     "delete_cmd_prefix": "rm(",
     "library": "var_list.r",
     "varRefreshCmd": "cat(var_dic_list()) "
    }
   },
   "types_to_exclude": [
    "module",
    "function",
    "builtin_function_or_method",
    "instance",
    "_Feature"
   ],
   "window_display": false
  },
  "widgets": {
   "application/vnd.jupyter.widget-state+json": {
    "state": {
     "003e55c74c55418b83dd3f2c2807857d": {
      "model_module": "@jupyter-widgets/controls",
      "model_module_version": "1.5.0",
      "model_name": "ToggleButtonModel",
      "state": {
       "description": "Show Young Modulus",
       "layout": "IPY_MODEL_e89814fafbd644e8a86375c96c4af1ad",
       "style": "IPY_MODEL_53d1f45803fd49e5beebe82e3c8a1d11"
      }
     },
     "014cda27e71842919506b87d9536c0ea": {
      "model_module": "@jupyter-widgets/controls",
      "model_module_version": "1.5.0",
      "model_name": "HTMLMathModel",
      "state": {
       "layout": "IPY_MODEL_335882fb2ebe4b35b77b026f8101970f",
       "style": "IPY_MODEL_a20ed34cc07443ba9fb65e72178b7da8",
       "value": "Substituting the values:"
      }
     },
     "022a8ef87f4e42489a54bb68e8ad73b8": {
      "model_module": "@jupyter-widgets/controls",
      "model_module_version": "1.5.0",
      "model_name": "VBoxModel",
      "state": {
       "_dom_classes": [
        "widget-interact"
       ],
       "children": [
        "IPY_MODEL_e9fc77e70f1b431c8e419f624df7f490",
        "IPY_MODEL_700d8db7996e48e09ad269f4140c0620",
        "IPY_MODEL_003e55c74c55418b83dd3f2c2807857d",
        "IPY_MODEL_8c387bf9158446eca4b1c40548563b37"
       ],
       "layout": "IPY_MODEL_c9f779c7421446bd9b209aa4f885d049"
      }
     },
     "03dd57f221c1418382bb61b224a5e385": {
      "model_module": "@jupyter-widgets/output",
      "model_module_version": "1.0.0",
      "model_name": "OutputModel",
      "state": {
       "layout": "IPY_MODEL_a4dc40142f5f4a909d7953d4d8a523d4",
       "outputs": [
        {
         "name": "stderr",
         "output_type": "stream",
         "text": "findfont: Font family ['serif'] not found. Falling back to DejaVu Sans.\n"
        },
        {
         "data": {
          "image/png": "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\n",
          "text/plain": "<Figure size 432x288 with 1 Axes>"
         },
         "metadata": {
          "needs_background": "light"
         },
         "output_type": "display_data"
        }
       ]
      }
     },
     "04485f774e0647eba8726db23ee6206d": {
      "model_module": "@jupyter-widgets/controls",
      "model_module_version": "1.5.0",
      "model_name": "DescriptionStyleModel",
      "state": {
       "description_width": ""
      }
     },
     "04ed76ffe90e452b8de14c86dca8e5be": {
      "model_module": "@jupyter-widgets/base",
      "model_module_version": "1.2.0",
      "model_name": "LayoutModel",
      "state": {
       "height": "600px"
      }
     },
     "05509f48b16442fb9788a91aa5f4686a": {
      "model_module": "@jupyter-widgets/base",
      "model_module_version": "1.2.0",
      "model_name": "LayoutModel",
      "state": {}
     },
     "066c5448acfe475fb66912f3b61554c8": {
      "model_module": "@jupyter-widgets/base",
      "model_module_version": "1.2.0",
      "model_name": "LayoutModel",
      "state": {
       "display": "none"
      }
     },
     "072ed4cae309443387a34e29412dfa10": {
      "model_module": "@jupyter-widgets/controls",
      "model_module_version": "1.5.0",
      "model_name": "DescriptionStyleModel",
      "state": {
       "description_width": ""
      }
     },
     "073c03a2c0f14fb9b2c9d55b896066f7": {
      "model_module": "@jupyter-widgets/base",
      "model_module_version": "1.2.0",
      "model_name": "LayoutModel",
      "state": {}
     },
     "0a02d790999d4c9dba7ad70d3966ad77": {
      "model_module": "@jupyter-widgets/controls",
      "model_module_version": "1.5.0",
      "model_name": "HTMLMathModel",
      "state": {
       "layout": "IPY_MODEL_b0896b7f736d4c139b600c7d30b77b78",
       "style": "IPY_MODEL_3a8d756a91d54eec8492d352cb06465a",
       "value": "$\\sigma_{th} = \\sqrt{\\dfrac{\\gamma_0 E}{x_0}}$"
      }
     },
     "0bfcf8a4d3b14d00b8a32d3f29144b29": {
      "model_module": "@jupyter-widgets/base",
      "model_module_version": "1.2.0",
      "model_name": "LayoutModel",
      "state": {}
     },
     "146e9cd670334ab0a018ca5ce6921f76": {
      "model_module": "@jupyter-widgets/base",
      "model_module_version": "1.2.0",
      "model_name": "LayoutModel",
      "state": {}
     },
     "14e49ade2fe54f0a8e06a992052425b4": {
      "model_module": "@jupyter-widgets/controls",
      "model_module_version": "1.5.0",
      "model_name": "FloatSliderModel",
      "state": {
       "description": "$\\xi$",
       "layout": "IPY_MODEL_b43399ced9b1463aa842a3d916c7db3d",
       "max": 50,
       "min": 1,
       "step": 0.5,
       "style": "IPY_MODEL_c664c2fe697a4063907a0a8721142544",
       "value": 1
      }
     },
     "15775486b88d4e8e89330afcbfb20841": {
      "model_module": "@jupyter-widgets/controls",
      "model_module_version": "1.5.0",
      "model_name": "RadioButtonsModel",
      "state": {
       "_options_labels": [
        "I",
        "II",
        "III",
        "IV",
        "II and III",
        "II and V"
       ],
       "index": 0,
       "layout": "IPY_MODEL_59cec61fde3d423abce22ee6b60fd1cc",
       "style": "IPY_MODEL_072ed4cae309443387a34e29412dfa10"
      }
     },
     "15eb756a5eb94c5b868be7764011ddc9": {
      "model_module": "@jupyter-widgets/base",
      "model_module_version": "1.2.0",
      "model_name": "LayoutModel",
      "state": {}
     },
     "170cbfe6373d4236ba73506646941c2f": {
      "model_module": "@jupyter-widgets/base",
      "model_module_version": "1.2.0",
      "model_name": "LayoutModel",
      "state": {
       "display": "none"
      }
     },
     "21592ffeb1d0466b960c65f89559eefb": {
      "model_module": "@jupyter-widgets/base",
      "model_module_version": "1.2.0",
      "model_name": "LayoutModel",
      "state": {}
     },
     "24f73f2d05924e978ea61e980966f364": {
      "model_module": "@jupyter-widgets/base",
      "model_module_version": "1.2.0",
      "model_name": "LayoutModel",
      "state": {}
     },
     "2725f465935d431e8a844d2e50ff252c": {
      "model_module": "@jupyter-widgets/controls",
      "model_module_version": "1.5.0",
      "model_name": "ButtonModel",
      "state": {
       "description": "Submit!",
       "layout": "IPY_MODEL_31c91627934c42dc86aad4e258129cc6",
       "style": "IPY_MODEL_d616102367a0400585abe19a26631e6e"
      }
     },
     "2803b29987a24d24b90ba12dd7ede2e1": {
      "model_module": "@jupyter-widgets/controls",
      "model_module_version": "1.5.0",
      "model_name": "VBoxModel",
      "state": {
       "children": [
        "IPY_MODEL_f731eb9b846a4272b4fb7356b0be10e3",
        "IPY_MODEL_3439ac9c5bcd44daaf064de930590301",
        "IPY_MODEL_fd3397071cfc4d7fa657a2c9f2b0e079",
        "IPY_MODEL_0a02d790999d4c9dba7ad70d3966ad77",
        "IPY_MODEL_014cda27e71842919506b87d9536c0ea",
        "IPY_MODEL_f35b0f5a4dbe4123a0cfb87426f147b7",
        "IPY_MODEL_9895547004a642dd924f18a6a4eda70a",
        "IPY_MODEL_e2f98758a54f4dbe986d792f7bacd3d6"
       ],
       "layout": "IPY_MODEL_2d1af85df802420597ca4606029ab9fb"
      }
     },
     "2d1af85df802420597ca4606029ab9fb": {
      "model_module": "@jupyter-widgets/base",
      "model_module_version": "1.2.0",
      "model_name": "LayoutModel",
      "state": {
       "display": "column-flex",
       "width": "100%"
      }
     },
     "2f157b274f594cbcbf41456ba052b7f9": {
      "model_module": "@jupyter-widgets/base",
      "model_module_version": "1.2.0",
      "model_name": "LayoutModel",
      "state": {
       "align_content": "center",
       "align_items": "center",
       "display": "flex",
       "flex_flow": "column",
       "justify_content": "center",
       "width": "100%"
      }
     },
     "31c91627934c42dc86aad4e258129cc6": {
      "model_module": "@jupyter-widgets/base",
      "model_module_version": "1.2.0",
      "model_name": "LayoutModel",
      "state": {}
     },
     "335882fb2ebe4b35b77b026f8101970f": {
      "model_module": "@jupyter-widgets/base",
      "model_module_version": "1.2.0",
      "model_name": "LayoutModel",
      "state": {
       "display": "none"
      }
     },
     "3439ac9c5bcd44daaf064de930590301": {
      "model_module": "@jupyter-widgets/controls",
      "model_module_version": "1.5.0",
      "model_name": "HTMLMathModel",
      "state": {
       "layout": "IPY_MODEL_05509f48b16442fb9788a91aa5f4686a",
       "style": "IPY_MODEL_971007fcbcdb4c5485647d79707585c5",
       "value": "Alumina (Al<sub>2</sub>O<sub>3</sub>) has a Young Modulus, $E$, of approximately 400GPa, with a surface energy, $\\gamma_0$ of 1.2 J/m<sup>2</sup> and a lattice parameter, $x_0$ of 4x10<sup>-10</sup> m."
      }
     },
     "36515e25e0ff4fb9a496b8ae81d1a49d": {
      "model_module": "@jupyter-widgets/controls",
      "model_module_version": "1.5.0",
      "model_name": "VBoxModel",
      "state": {
       "_dom_classes": [
        "widget-interact"
       ],
       "children": [
        "IPY_MODEL_14e49ade2fe54f0a8e06a992052425b4",
        "IPY_MODEL_03dd57f221c1418382bb61b224a5e385"
       ],
       "layout": "IPY_MODEL_52628ffad7e447e4a23107a2dd3d5313"
      }
     },
     "3772793cd7064320a336e3098f6b8be0": {
      "model_module": "@jupyter-widgets/controls",
      "model_module_version": "1.5.0",
      "model_name": "VBoxModel",
      "state": {
       "_dom_classes": [
        "widget-interact"
       ],
       "children": [
        "IPY_MODEL_cb028ff091304cffb770650444e205c3",
        "IPY_MODEL_8d06b17729694a1eb51e1c0465196536",
        "IPY_MODEL_ebd522bd017242c7a016376192e1d769",
        "IPY_MODEL_dd01b6dc981e4c48acff361d0c51ed76"
       ],
       "layout": "IPY_MODEL_b2919c03544941d2a4cfadd850546fd7"
      }
     },
     "3a8d756a91d54eec8492d352cb06465a": {
      "model_module": "@jupyter-widgets/controls",
      "model_module_version": "1.5.0",
      "model_name": "DescriptionStyleModel",
      "state": {
       "description_width": ""
      }
     },
     "3b87b80e75544f8aa65a436071f6aca1": {
      "model_module": "@jupyter-widgets/base",
      "model_module_version": "1.2.0",
      "model_name": "LayoutModel",
      "state": {
       "height": "360px"
      }
     },
     "3c23282546e24bd98150eeee70506dd9": {
      "model_module": "@jupyter-widgets/base",
      "model_module_version": "1.2.0",
      "model_name": "LayoutModel",
      "state": {}
     },
     "3fc792be32ec4ca7b037c34a8c666c50": {
      "model_module": "@jupyter-widgets/base",
      "model_module_version": "1.2.0",
      "model_name": "LayoutModel",
      "state": {}
     },
     "43ec3923df2a4ea6b6585c0c5bc3d089": {
      "model_module": "@jupyter-widgets/base",
      "model_module_version": "1.2.0",
      "model_name": "LayoutModel",
      "state": {}
     },
     "4f21ac81d46c4887acf0714c606a131a": {
      "model_module": "@jupyter-widgets/controls",
      "model_module_version": "1.5.0",
      "model_name": "SliderStyleModel",
      "state": {
       "description_width": ""
      }
     },
     "52628ffad7e447e4a23107a2dd3d5313": {
      "model_module": "@jupyter-widgets/base",
      "model_module_version": "1.2.0",
      "model_name": "LayoutModel",
      "state": {
       "align_content": "center",
       "align_items": "center",
       "display": "flex",
       "flex_flow": "column",
       "justify_content": "center",
       "width": "100%"
      }
     },
     "53d1f45803fd49e5beebe82e3c8a1d11": {
      "model_module": "@jupyter-widgets/controls",
      "model_module_version": "1.5.0",
      "model_name": "DescriptionStyleModel",
      "state": {
       "description_width": ""
      }
     },
     "552bfa76df304dc19bcac72972073cdc": {
      "model_module": "@jupyter-widgets/base",
      "model_module_version": "1.2.0",
      "model_name": "LayoutModel",
      "state": {}
     },
     "55e9e22785e14e1ba26e611eacf9d127": {
      "model_module": "@jupyter-widgets/controls",
      "model_module_version": "1.5.0",
      "model_name": "SliderStyleModel",
      "state": {
       "description_width": ""
      }
     },
     "5929646934664758a67dd251ebc26d71": {
      "model_module": "@jupyter-widgets/base",
      "model_module_version": "1.2.0",
      "model_name": "LayoutModel",
      "state": {}
     },
     "59cec61fde3d423abce22ee6b60fd1cc": {
      "model_module": "@jupyter-widgets/base",
      "model_module_version": "1.2.0",
      "model_name": "LayoutModel",
      "state": {}
     },
     "5f495adcf5f84b70ba490f15925bd213": {
      "model_module": "@jupyter-widgets/controls",
      "model_module_version": "1.5.0",
      "model_name": "DescriptionStyleModel",
      "state": {
       "description_width": ""
      }
     },
     "66abc2d6bc4f4bf08dd8b986df8d1807": {
      "model_module": "@jupyter-widgets/base",
      "model_module_version": "1.2.0",
      "model_name": "LayoutModel",
      "state": {}
     },
     "700d8db7996e48e09ad269f4140c0620": {
      "model_module": "@jupyter-widgets/controls",
      "model_module_version": "1.5.0",
      "model_name": "FloatSliderModel",
      "state": {
       "description": "n",
       "layout": "IPY_MODEL_93dfe947d23c4abea9ee1f1ee1460157",
       "max": 9,
       "min": 3,
       "step": 0.5,
       "style": "IPY_MODEL_55e9e22785e14e1ba26e611eacf9d127",
       "value": 6
      }
     },
     "76b095b64ef14d8fbcd80b925fd4d312": {
      "model_module": "@jupyter-widgets/controls",
      "model_module_version": "1.5.0",
      "model_name": "SliderStyleModel",
      "state": {
       "description_width": ""
      }
     },
     "79816924908c4fb09c24926821aeaeac": {
      "model_module": "@jupyter-widgets/output",
      "model_module_version": "1.0.0",
      "model_name": "OutputModel",
      "state": {
       "layout": "IPY_MODEL_f787a8fd5a3f4f1a929f32963102a80f"
      }
     },
     "7cb5e6bece244629935913efd2acab9a": {
      "model_module": "@jupyter-widgets/base",
      "model_module_version": "1.2.0",
      "model_name": "LayoutModel",
      "state": {
       "display": "none"
      }
     },
     "860494c9ca6c4415967d9b5fd51a1fbd": {
      "model_module": "@jupyter-widgets/base",
      "model_module_version": "1.2.0",
      "model_name": "LayoutModel",
      "state": {}
     },
     "8638c91ec20c440b862154730d6f648f": {
      "model_module": "@jupyter-widgets/controls",
      "model_module_version": "1.5.0",
      "model_name": "ButtonModel",
      "state": {
       "description": "Back",
       "disabled": true,
       "layout": "IPY_MODEL_a8d48d9671fd4f54849047f22dd6fee6",
       "style": "IPY_MODEL_8c8bd17e775a494096bb0efef9a2ac8a"
      }
     },
     "8a438393a3c24621b10979bd61aabd39": {
      "model_module": "@jupyter-widgets/base",
      "model_module_version": "1.2.0",
      "model_name": "LayoutModel",
      "state": {}
     },
     "8c387bf9158446eca4b1c40548563b37": {
      "model_module": "@jupyter-widgets/output",
      "model_module_version": "1.0.0",
      "model_name": "OutputModel",
      "state": {
       "layout": "IPY_MODEL_04ed76ffe90e452b8de14c86dca8e5be",
       "outputs": [
        {
         "name": "stderr",
         "output_type": "stream",
         "text": "findfont: Font family ['serif'] not found. Falling back to DejaVu Sans.\n"
        },
        {
         "data": {
          "image/png": "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\n",
          "text/plain": "<Figure size 720x720 with 2 Axes>"
         },
         "metadata": {},
         "output_type": "display_data"
        }
       ]
      }
     },
     "8c8bd17e775a494096bb0efef9a2ac8a": {
      "model_module": "@jupyter-widgets/controls",
      "model_module_version": "1.5.0",
      "model_name": "ButtonStyleModel",
      "state": {}
     },
     "8ca4f96beb4a4ac58934019680cdb7e6": {
      "model_module": "@jupyter-widgets/controls",
      "model_module_version": "1.5.0",
      "model_name": "DescriptionStyleModel",
      "state": {
       "description_width": ""
      }
     },
     "8d06b17729694a1eb51e1c0465196536": {
      "model_module": "@jupyter-widgets/controls",
      "model_module_version": "1.5.0",
      "model_name": "ToggleButtonModel",
      "state": {
       "description": "Add defect",
       "layout": "IPY_MODEL_24f73f2d05924e978ea61e980966f364",
       "style": "IPY_MODEL_8ca4f96beb4a4ac58934019680cdb7e6"
      }
     },
     "90b9eaf740314b82a1bb1270ea76c42c": {
      "model_module": "@jupyter-widgets/base",
      "model_module_version": "1.2.0",
      "model_name": "LayoutModel",
      "state": {}
     },
     "93dfe947d23c4abea9ee1f1ee1460157": {
      "model_module": "@jupyter-widgets/base",
      "model_module_version": "1.2.0",
      "model_name": "LayoutModel",
      "state": {}
     },
     "96a4b896f2be4e71bbf73431a855094d": {
      "model_module": "@jupyter-widgets/controls",
      "model_module_version": "1.5.0",
      "model_name": "ButtonModel",
      "state": {
       "description": "Next",
       "layout": "IPY_MODEL_dd5d7ef8b3ab4c30808413ee0eb0955b",
       "style": "IPY_MODEL_f84cecfd43a74953a831c94dfebf517f"
      }
     },
     "971007fcbcdb4c5485647d79707585c5": {
      "model_module": "@jupyter-widgets/controls",
      "model_module_version": "1.5.0",
      "model_name": "DescriptionStyleModel",
      "state": {
       "description_width": ""
      }
     },
     "9895547004a642dd924f18a6a4eda70a": {
      "model_module": "@jupyter-widgets/controls",
      "model_module_version": "1.5.0",
      "model_name": "HTMLMathModel",
      "state": {
       "layout": "IPY_MODEL_7cb5e6bece244629935913efd2acab9a",
       "style": "IPY_MODEL_04485f774e0647eba8726db23ee6206d",
       "value": "$\\sigma_{th} \\approx 40 $ GPa"
      }
     },
     "99dc3e6c505a458c8fa0f7a547d2c4ca": {
      "model_module": "@jupyter-widgets/controls",
      "model_module_version": "1.5.0",
      "model_name": "DescriptionStyleModel",
      "state": {
       "description_width": ""
      }
     },
     "a20ed34cc07443ba9fb65e72178b7da8": {
      "model_module": "@jupyter-widgets/controls",
      "model_module_version": "1.5.0",
      "model_name": "DescriptionStyleModel",
      "state": {
       "description_width": ""
      }
     },
     "a4dc40142f5f4a909d7953d4d8a523d4": {
      "model_module": "@jupyter-widgets/base",
      "model_module_version": "1.2.0",
      "model_name": "LayoutModel",
      "state": {
       "height": "270px"
      }
     },
     "a6680d41d2c44b18ae6b495239e921bf": {
      "model_module": "@jupyter-widgets/base",
      "model_module_version": "1.2.0",
      "model_name": "LayoutModel",
      "state": {}
     },
     "a8d48d9671fd4f54849047f22dd6fee6": {
      "model_module": "@jupyter-widgets/base",
      "model_module_version": "1.2.0",
      "model_name": "LayoutModel",
      "state": {}
     },
     "b0896b7f736d4c139b600c7d30b77b78": {
      "model_module": "@jupyter-widgets/base",
      "model_module_version": "1.2.0",
      "model_name": "LayoutModel",
      "state": {
       "display": "none"
      }
     },
     "b1a01188f8f14d748800517e922d5fc5": {
      "model_module": "@jupyter-widgets/base",
      "model_module_version": "1.2.0",
      "model_name": "LayoutModel",
      "state": {}
     },
     "b2919c03544941d2a4cfadd850546fd7": {
      "model_module": "@jupyter-widgets/base",
      "model_module_version": "1.2.0",
      "model_name": "LayoutModel",
      "state": {
       "align_content": "center",
       "align_items": "center",
       "display": "flex",
       "flex_flow": "column-reverse",
       "justify_content": "center",
       "width": "100%"
      }
     },
     "b43399ced9b1463aa842a3d916c7db3d": {
      "model_module": "@jupyter-widgets/base",
      "model_module_version": "1.2.0",
      "model_name": "LayoutModel",
      "state": {}
     },
     "b9488dfc1bd34a94bed5292db24241fa": {
      "model_module": "@jupyter-widgets/controls",
      "model_module_version": "1.5.0",
      "model_name": "DescriptionStyleModel",
      "state": {
       "description_width": ""
      }
     },
     "c664c2fe697a4063907a0a8721142544": {
      "model_module": "@jupyter-widgets/controls",
      "model_module_version": "1.5.0",
      "model_name": "SliderStyleModel",
      "state": {
       "description_width": ""
      }
     },
     "c9f779c7421446bd9b209aa4f885d049": {
      "model_module": "@jupyter-widgets/base",
      "model_module_version": "1.2.0",
      "model_name": "LayoutModel",
      "state": {
       "align_content": "center",
       "align_items": "center",
       "display": "flex",
       "flex_flow": "column-reverse",
       "justify_content": "center",
       "width": "100%"
      }
     },
     "cb028ff091304cffb770650444e205c3": {
      "model_module": "@jupyter-widgets/controls",
      "model_module_version": "1.5.0",
      "model_name": "FloatSliderModel",
      "state": {
       "description": "$\\rho$",
       "layout": "IPY_MODEL_b1a01188f8f14d748800517e922d5fc5",
       "max": 1,
       "min": 0.01,
       "step": 0.01,
       "style": "IPY_MODEL_76b095b64ef14d8fbcd80b925fd4d312",
       "value": 1
      }
     },
     "cf22f8b32e234c1fba372068cf9e4283": {
      "model_module": "@jupyter-widgets/controls",
      "model_module_version": "1.5.0",
      "model_name": "HTMLMathModel",
      "state": {
       "layout": "IPY_MODEL_5929646934664758a67dd251ebc26d71",
       "style": "IPY_MODEL_99dc3e6c505a458c8fa0f7a547d2c4ca",
       "value": "\n          Which affirmation is right?\n          \n          <p>I)   $\\sigma_{f, 1} = \\sigma_{f, 2}$</p>\n          \n          <p>II)  $\\sigma_{f, 1} \\gt \\sigma_{f, 2}$</p>\n          \n          <p>III) $\\sigma_{f, 1} = \\sigma_{f, 3}$</p>\n          \n          <p>IV) $\\sigma_{f, 1} \\gt \\sigma_{f, 3}$</p>\n          \n          "
      }
     },
     "d616102367a0400585abe19a26631e6e": {
      "model_module": "@jupyter-widgets/controls",
      "model_module_version": "1.5.0",
      "model_name": "ButtonStyleModel",
      "state": {}
     },
     "dd01b6dc981e4c48acff361d0c51ed76": {
      "model_module": "@jupyter-widgets/output",
      "model_module_version": "1.0.0",
      "model_name": "OutputModel",
      "state": {
       "layout": "IPY_MODEL_3b87b80e75544f8aa65a436071f6aca1",
       "outputs": [
        {
         "data": {
          "image/png": "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\n",
          "text/plain": "<Figure size 432x432 with 1 Axes>"
         },
         "metadata": {
          "needs_background": "light"
         },
         "output_type": "display_data"
        }
       ]
      }
     },
     "dd5d7ef8b3ab4c30808413ee0eb0955b": {
      "model_module": "@jupyter-widgets/base",
      "model_module_version": "1.2.0",
      "model_name": "LayoutModel",
      "state": {}
     },
     "df8d949867d040d59d44cdc1a53c2ffe": {
      "model_module": "@jupyter-widgets/controls",
      "model_module_version": "1.5.0",
      "model_name": "TabModel",
      "state": {
       "_titles": {
        "0": "Example 1"
       },
       "children": [
        "IPY_MODEL_2803b29987a24d24b90ba12dd7ede2e1"
       ],
       "layout": "IPY_MODEL_0bfcf8a4d3b14d00b8a32d3f29144b29"
      }
     },
     "e2f98758a54f4dbe986d792f7bacd3d6": {
      "model_module": "@jupyter-widgets/controls",
      "model_module_version": "1.5.0",
      "model_name": "HBoxModel",
      "state": {
       "children": [
        "IPY_MODEL_8638c91ec20c440b862154730d6f648f",
        "IPY_MODEL_96a4b896f2be4e71bbf73431a855094d"
       ],
       "layout": "IPY_MODEL_15eb756a5eb94c5b868be7764011ddc9"
      }
     },
     "e808294e9fc544e89288a779398636ba": {
      "model_module": "@jupyter-widgets/controls",
      "model_module_version": "1.5.0",
      "model_name": "DescriptionStyleModel",
      "state": {
       "description_width": ""
      }
     },
     "e89814fafbd644e8a86375c96c4af1ad": {
      "model_module": "@jupyter-widgets/base",
      "model_module_version": "1.2.0",
      "model_name": "LayoutModel",
      "state": {}
     },
     "e9fc77e70f1b431c8e419f624df7f490": {
      "model_module": "@jupyter-widgets/controls",
      "model_module_version": "1.5.0",
      "model_name": "FloatSliderModel",
      "state": {
       "description": "e",
       "layout": "IPY_MODEL_90b9eaf740314b82a1bb1270ea76c42c",
       "max": 10,
       "min": 2,
       "step": 0.5,
       "style": "IPY_MODEL_4f21ac81d46c4887acf0714c606a131a",
       "value": 6
      }
     },
     "ebd522bd017242c7a016376192e1d769": {
      "model_module": "@jupyter-widgets/controls",
      "model_module_version": "1.5.0",
      "model_name": "ToggleButtonModel",
      "state": {
       "description": "Plot Force Lines",
       "layout": "IPY_MODEL_860494c9ca6c4415967d9b5fd51a1fbd",
       "style": "IPY_MODEL_f594e5d0debd4d89aabda16d7abcc977"
      }
     },
     "f35b0f5a4dbe4123a0cfb87426f147b7": {
      "model_module": "@jupyter-widgets/controls",
      "model_module_version": "1.5.0",
      "model_name": "HTMLMathModel",
      "state": {
       "layout": "IPY_MODEL_066c5448acfe475fb66912f3b61554c8",
       "style": "IPY_MODEL_b9488dfc1bd34a94bed5292db24241fa",
       "value": "$\\sigma_{th} = \\sqrt{\\dfrac{1.2 \\ x \\ 400x10^9}{4x10^{-10} }}$"
      }
     },
     "f594e5d0debd4d89aabda16d7abcc977": {
      "model_module": "@jupyter-widgets/controls",
      "model_module_version": "1.5.0",
      "model_name": "DescriptionStyleModel",
      "state": {
       "description_width": ""
      }
     },
     "f731eb9b846a4272b4fb7356b0be10e3": {
      "model_module": "@jupyter-widgets/controls",
      "model_module_version": "1.5.0",
      "model_name": "HTMLModel",
      "state": {
       "layout": "IPY_MODEL_146e9cd670334ab0a018ca5ce6921f76",
       "style": "IPY_MODEL_e808294e9fc544e89288a779398636ba",
       "value": "<b>Calculation of Alumina Theoretical Strength:</b>"
      }
     },
     "f787a8fd5a3f4f1a929f32963102a80f": {
      "model_module": "@jupyter-widgets/base",
      "model_module_version": "1.2.0",
      "model_name": "LayoutModel",
      "state": {}
     },
     "f84cecfd43a74953a831c94dfebf517f": {
      "model_module": "@jupyter-widgets/controls",
      "model_module_version": "1.5.0",
      "model_name": "ButtonStyleModel",
      "state": {}
     },
     "fd3397071cfc4d7fa657a2c9f2b0e079": {
      "model_module": "@jupyter-widgets/controls",
      "model_module_version": "1.5.0",
      "model_name": "HTMLMathModel",
      "state": {
       "layout": "IPY_MODEL_170cbfe6373d4236ba73506646941c2f",
       "style": "IPY_MODEL_5f495adcf5f84b70ba490f15925bd213",
       "value": "The theoretical strength can be calculate with Equation 16, that is:"
      }
     },
     "fe065f93a27a436bb31bfd1ce28834a1": {
      "model_module": "@jupyter-widgets/controls",
      "model_module_version": "1.5.0",
      "model_name": "VBoxModel",
      "state": {
       "children": [
        "IPY_MODEL_cf22f8b32e234c1fba372068cf9e4283",
        "IPY_MODEL_15775486b88d4e8e89330afcbfb20841",
        "IPY_MODEL_2725f465935d431e8a844d2e50ff252c",
        "IPY_MODEL_79816924908c4fb09c24926821aeaeac"
       ],
       "layout": "IPY_MODEL_2f157b274f594cbcbf41456ba052b7f9"
      }
     }
    },
    "version_major": 2,
    "version_minor": 0
   }
  }
 },
 "nbformat": 4,
 "nbformat_minor": 4
}
